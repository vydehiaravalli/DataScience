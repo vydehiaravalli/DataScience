{
    "cells": [
        {
            "cell_type": "markdown",
            "metadata": {},
            "source": "<center>\n    <img src=\"https://gitlab.com/ibm/skills-network/courses/placeholder101/-/raw/master/labs/module%201/images/IDSNlogo.png\" width=\"300\" alt=\"cognitiveclass.ai logo\"  />\n</center>\n"
        },
        {
            "cell_type": "markdown",
            "metadata": {},
            "source": "# Peer Review Assignment - Data Engineer - ETL\n"
        },
        {
            "cell_type": "markdown",
            "metadata": {},
            "source": "Estimated time needed: **20** minutes\n"
        },
        {
            "cell_type": "markdown",
            "metadata": {},
            "source": "## Objectives\n\nIn this final part you will:\n\n*   Run the ETL process\n*   Extract bank and market cap data from the JSON file `bank_market_cap.json`\n*   Transform the market cap currency using the exchange rate data\n*   Load the transformed data into a seperate CSV\n"
        },
        {
            "cell_type": "markdown",
            "metadata": {},
            "source": "For this lab, we are going to be using Python and several Python libraries. Some of these libraries might be installed in your lab environment or in SN Labs. Others may need to be installed by you. The cells below will install these libraries when executed.\n"
        },
        {
            "cell_type": "code",
            "execution_count": null,
            "metadata": {},
            "outputs": [],
            "source": "#!pip install glob\n#!pip install pandas\n#!pip install requests\n#!pip install datetime"
        },
        {
            "cell_type": "markdown",
            "metadata": {},
            "source": "## Imports\n\nImport any additional libraries you may need here.\n"
        },
        {
            "cell_type": "code",
            "execution_count": 1,
            "metadata": {},
            "outputs": [],
            "source": "import glob\nimport pandas as pd\nfrom datetime import datetime"
        },
        {
            "cell_type": "markdown",
            "metadata": {},
            "source": "As the exchange rate fluctuates, we will download the same dataset to make marking simpler. This will be in the same format as the dataset you used in the last section\n"
        },
        {
            "cell_type": "code",
            "execution_count": 2,
            "metadata": {},
            "outputs": [
                {
                    "name": "stdout",
                    "output_type": "stream",
                    "text": "--2022-01-04 00:03:53--  https://cf-courses-data.s3.us.cloud-object-storage.appdomain.cloud/IBMDeveloperSkillsNetwork-PY0221EN-SkillsNetwork/labs/module%206/Lab%20-%20Extract%20Transform%20Load/data/bank_market_cap_1.json\nResolving cf-courses-data.s3.us.cloud-object-storage.appdomain.cloud (cf-courses-data.s3.us.cloud-object-storage.appdomain.cloud)... 198.23.119.245\nConnecting to cf-courses-data.s3.us.cloud-object-storage.appdomain.cloud (cf-courses-data.s3.us.cloud-object-storage.appdomain.cloud)|198.23.119.245|:443... connected.\nHTTP request sent, awaiting response... 200 OK\nLength: 2815 (2.7K) [application/json]\nSaving to: \u2018bank_market_cap_1.json.2\u2019\n\nbank_market_cap_1.j 100%[===================>]   2.75K  --.-KB/s    in 0s      \n\n2022-01-04 00:03:53 (57.9 MB/s) - \u2018bank_market_cap_1.json.2\u2019 saved [2815/2815]\n\n--2022-01-04 00:03:54--  https://cf-courses-data.s3.us.cloud-object-storage.appdomain.cloud/IBMDeveloperSkillsNetwork-PY0221EN-SkillsNetwork/labs/module%206/Lab%20-%20Extract%20Transform%20Load/data/bank_market_cap_2.json\nResolving cf-courses-data.s3.us.cloud-object-storage.appdomain.cloud (cf-courses-data.s3.us.cloud-object-storage.appdomain.cloud)... 198.23.119.245\nConnecting to cf-courses-data.s3.us.cloud-object-storage.appdomain.cloud (cf-courses-data.s3.us.cloud-object-storage.appdomain.cloud)|198.23.119.245|:443... connected.\nHTTP request sent, awaiting response... 200 OK\nLength: 1429 (1.4K) [application/json]\nSaving to: \u2018bank_market_cap_2.json.2\u2019\n\nbank_market_cap_2.j 100%[===================>]   1.40K  --.-KB/s    in 0s      \n\n2022-01-04 00:03:54 (31.3 MB/s) - \u2018bank_market_cap_2.json.2\u2019 saved [1429/1429]\n\n--2022-01-04 00:03:55--  https://cf-courses-data.s3.us.cloud-object-storage.appdomain.cloud/IBMDeveloperSkillsNetwork-PY0221EN-SkillsNetwork/labs/module%206/Final%20Assignment/exchange_rates.csv\nResolving cf-courses-data.s3.us.cloud-object-storage.appdomain.cloud (cf-courses-data.s3.us.cloud-object-storage.appdomain.cloud)... 198.23.119.245\nConnecting to cf-courses-data.s3.us.cloud-object-storage.appdomain.cloud (cf-courses-data.s3.us.cloud-object-storage.appdomain.cloud)|198.23.119.245|:443... connected.\nHTTP request sent, awaiting response... 200 OK\nLength: 590 [text/csv]\nSaving to: \u2018exchange_rates.csv.2\u2019\n\nexchange_rates.csv. 100%[===================>]     590  --.-KB/s    in 0s      \n\n2022-01-04 00:03:56 (12.2 MB/s) - \u2018exchange_rates.csv.2\u2019 saved [590/590]\n\n"
                }
            ],
            "source": "!wget https://cf-courses-data.s3.us.cloud-object-storage.appdomain.cloud/IBMDeveloperSkillsNetwork-PY0221EN-SkillsNetwork/labs/module%206/Lab%20-%20Extract%20Transform%20Load/data/bank_market_cap_1.json\n!wget https://cf-courses-data.s3.us.cloud-object-storage.appdomain.cloud/IBMDeveloperSkillsNetwork-PY0221EN-SkillsNetwork/labs/module%206/Lab%20-%20Extract%20Transform%20Load/data/bank_market_cap_2.json\n!wget https://cf-courses-data.s3.us.cloud-object-storage.appdomain.cloud/IBMDeveloperSkillsNetwork-PY0221EN-SkillsNetwork/labs/module%206/Final%20Assignment/exchange_rates.csv"
        },
        {
            "cell_type": "markdown",
            "metadata": {},
            "source": "## Extract\n"
        },
        {
            "cell_type": "markdown",
            "metadata": {},
            "source": "### JSON Extract Function\n\nThis function will extract JSON files.\n"
        },
        {
            "cell_type": "code",
            "execution_count": 3,
            "metadata": {},
            "outputs": [],
            "source": "def extract_from_json(file_to_process):\n    dataframe = pd.read_json(file_to_process)\n    return dataframe"
        },
        {
            "cell_type": "markdown",
            "metadata": {},
            "source": "## Extract Function\n\nDefine the extract function that finds JSON file `bank_market_cap_1.json` and calls the function created above to extract data from them. Store the data in a `pandas` dataframe. Use the following list for the columns.\n"
        },
        {
            "cell_type": "code",
            "execution_count": 4,
            "metadata": {},
            "outputs": [],
            "source": "columns=['Name','Market Cap (US$ Billion)']"
        },
        {
            "cell_type": "code",
            "execution_count": 7,
            "metadata": {},
            "outputs": [
                {
                    "data": {
                        "text/html": "<div>\n<style scoped>\n    .dataframe tbody tr th:only-of-type {\n        vertical-align: middle;\n    }\n\n    .dataframe tbody tr th {\n        vertical-align: top;\n    }\n\n    .dataframe thead th {\n        text-align: right;\n    }\n</style>\n<table border=\"1\" class=\"dataframe\">\n  <thead>\n    <tr style=\"text-align: right;\">\n      <th></th>\n      <th>Name</th>\n      <th>Market Cap (US$ Billion)</th>\n    </tr>\n  </thead>\n  <tbody>\n    <tr>\n      <th>0</th>\n      <td>JPMorgan Chase</td>\n      <td>390.934</td>\n    </tr>\n    <tr>\n      <th>1</th>\n      <td>Industrial and Commercial Bank of China</td>\n      <td>345.214</td>\n    </tr>\n    <tr>\n      <th>2</th>\n      <td>Bank of America</td>\n      <td>325.331</td>\n    </tr>\n    <tr>\n      <th>3</th>\n      <td>Wells Fargo</td>\n      <td>308.013</td>\n    </tr>\n    <tr>\n      <th>4</th>\n      <td>China Construction Bank</td>\n      <td>257.399</td>\n    </tr>\n    <tr>\n      <th>...</th>\n      <td>...</td>\n      <td>...</td>\n    </tr>\n    <tr>\n      <th>65</th>\n      <td>Ping An Bank</td>\n      <td>37.993</td>\n    </tr>\n    <tr>\n      <th>66</th>\n      <td>Standard Chartered</td>\n      <td>37.319</td>\n    </tr>\n    <tr>\n      <th>67</th>\n      <td>United Overseas Bank</td>\n      <td>35.128</td>\n    </tr>\n    <tr>\n      <th>68</th>\n      <td>QNB Group</td>\n      <td>33.560</td>\n    </tr>\n    <tr>\n      <th>69</th>\n      <td>Bank Rakyat</td>\n      <td>33.081</td>\n    </tr>\n  </tbody>\n</table>\n<p>70 rows \u00d7 2 columns</p>\n</div>",
                        "text/plain": "                                       Name  Market Cap (US$ Billion)\n0                            JPMorgan Chase                   390.934\n1   Industrial and Commercial Bank of China                   345.214\n2                           Bank of America                   325.331\n3                               Wells Fargo                   308.013\n4                   China Construction Bank                   257.399\n..                                      ...                       ...\n65                             Ping An Bank                    37.993\n66                       Standard Chartered                    37.319\n67                     United Overseas Bank                    35.128\n68                                QNB Group                    33.560\n69                              Bank Rakyat                    33.081\n\n[70 rows x 2 columns]"
                    },
                    "execution_count": 7,
                    "metadata": {},
                    "output_type": "execute_result"
                }
            ],
            "source": "def extract(filename):\n    extracted_data = pd.DataFrame()\n    for jsonfile in glob.glob(filename):\n        extracted_data = extracted_data.append(extract_from_json(jsonfile), ignore_index=True)\n    return    extracted_data\nextract(\"bank_market_cap_1.json\")\n\n    "
        },
        {
            "cell_type": "code",
            "execution_count": 8,
            "metadata": {},
            "outputs": [
                {
                    "data": {
                        "text/html": "<div>\n<style scoped>\n    .dataframe tbody tr th:only-of-type {\n        vertical-align: middle;\n    }\n\n    .dataframe tbody tr th {\n        vertical-align: top;\n    }\n\n    .dataframe thead th {\n        text-align: right;\n    }\n</style>\n<table border=\"1\" class=\"dataframe\">\n  <thead>\n    <tr style=\"text-align: right;\">\n      <th></th>\n      <th>Name</th>\n      <th>Market Cap (US$ Billion)</th>\n    </tr>\n  </thead>\n  <tbody>\n    <tr>\n      <th>0</th>\n      <td>Banco Bilbao Vizcaya Argentaria</td>\n      <td>60.678</td>\n    </tr>\n    <tr>\n      <th>1</th>\n      <td>Japan Post Bank</td>\n      <td>60.525</td>\n    </tr>\n    <tr>\n      <th>2</th>\n      <td>The Bank of New York Mellon</td>\n      <td>59.823</td>\n    </tr>\n    <tr>\n      <th>3</th>\n      <td>Shanghai Pudong Development Bank</td>\n      <td>58.796</td>\n    </tr>\n    <tr>\n      <th>4</th>\n      <td>Industrial Bank (China)</td>\n      <td>57.388</td>\n    </tr>\n    <tr>\n      <th>5</th>\n      <td>Bank of China (Hong Kong)</td>\n      <td>55.449</td>\n    </tr>\n    <tr>\n      <th>6</th>\n      <td>Bank of Montreal</td>\n      <td>53.181</td>\n    </tr>\n    <tr>\n      <th>7</th>\n      <td>Cr\u00e9dit Agricole</td>\n      <td>52.141</td>\n    </tr>\n    <tr>\n      <th>8</th>\n      <td>DBS Bank</td>\n      <td>51.475</td>\n    </tr>\n    <tr>\n      <th>9</th>\n      <td>Nordea</td>\n      <td>51.185</td>\n    </tr>\n    <tr>\n      <th>10</th>\n      <td>Capital One</td>\n      <td>51.107</td>\n    </tr>\n    <tr>\n      <th>11</th>\n      <td>NatWest Group</td>\n      <td>50.490</td>\n    </tr>\n    <tr>\n      <th>12</th>\n      <td>Mizuho Financial Group</td>\n      <td>50.018</td>\n    </tr>\n    <tr>\n      <th>13</th>\n      <td>Credit Suisse</td>\n      <td>48.462</td>\n    </tr>\n    <tr>\n      <th>14</th>\n      <td>Postal Savings Bank of China</td>\n      <td>47.948</td>\n    </tr>\n    <tr>\n      <th>15</th>\n      <td>China Minsheng Bank</td>\n      <td>47.921</td>\n    </tr>\n    <tr>\n      <th>16</th>\n      <td>UniCredit</td>\n      <td>47.777</td>\n    </tr>\n    <tr>\n      <th>17</th>\n      <td>China CITIC Bank</td>\n      <td>47.451</td>\n    </tr>\n    <tr>\n      <th>18</th>\n      <td>Hang Seng Bank</td>\n      <td>46.171</td>\n    </tr>\n    <tr>\n      <th>19</th>\n      <td>Soci\u00e9t\u00e9 G\u00e9n\u00e9rale</td>\n      <td>46.051</td>\n    </tr>\n    <tr>\n      <th>20</th>\n      <td>Barclays</td>\n      <td>45.850</td>\n    </tr>\n    <tr>\n      <th>21</th>\n      <td>Canadian Imperial Bank of Commerce</td>\n      <td>43.544</td>\n    </tr>\n    <tr>\n      <th>22</th>\n      <td>Bank Central Asia</td>\n      <td>43.344</td>\n    </tr>\n    <tr>\n      <th>23</th>\n      <td>Truist Financial</td>\n      <td>41.923</td>\n    </tr>\n    <tr>\n      <th>24</th>\n      <td>Oversea-Chinese Banking Corp</td>\n      <td>41.362</td>\n    </tr>\n    <tr>\n      <th>25</th>\n      <td>State Bank of India</td>\n      <td>40.562</td>\n    </tr>\n    <tr>\n      <th>26</th>\n      <td>State Street</td>\n      <td>39.769</td>\n    </tr>\n    <tr>\n      <th>27</th>\n      <td>Deutsche Bank</td>\n      <td>38.649</td>\n    </tr>\n    <tr>\n      <th>28</th>\n      <td>KBC Bank</td>\n      <td>38.394</td>\n    </tr>\n    <tr>\n      <th>29</th>\n      <td>Danske Bank</td>\n      <td>38.223</td>\n    </tr>\n    <tr>\n      <th>30</th>\n      <td>Ping An Bank</td>\n      <td>37.993</td>\n    </tr>\n    <tr>\n      <th>31</th>\n      <td>Standard Chartered</td>\n      <td>37.319</td>\n    </tr>\n    <tr>\n      <th>32</th>\n      <td>United Overseas Bank</td>\n      <td>35.128</td>\n    </tr>\n    <tr>\n      <th>33</th>\n      <td>QNB Group</td>\n      <td>33.560</td>\n    </tr>\n    <tr>\n      <th>34</th>\n      <td>Bank Rakyat</td>\n      <td>33.081</td>\n    </tr>\n  </tbody>\n</table>\n</div>",
                        "text/plain": "                                  Name  Market Cap (US$ Billion)\n0      Banco Bilbao Vizcaya Argentaria                    60.678\n1                      Japan Post Bank                    60.525\n2          The Bank of New York Mellon                    59.823\n3     Shanghai Pudong Development Bank                    58.796\n4              Industrial Bank (China)                    57.388\n5            Bank of China (Hong Kong)                    55.449\n6                     Bank of Montreal                    53.181\n7                      Cr\u00e9dit Agricole                    52.141\n8                             DBS Bank                    51.475\n9                               Nordea                    51.185\n10                         Capital One                    51.107\n11                       NatWest Group                    50.490\n12              Mizuho Financial Group                    50.018\n13                       Credit Suisse                    48.462\n14        Postal Savings Bank of China                    47.948\n15                 China Minsheng Bank                    47.921\n16                           UniCredit                    47.777\n17                    China CITIC Bank                    47.451\n18                      Hang Seng Bank                    46.171\n19                    Soci\u00e9t\u00e9 G\u00e9n\u00e9rale                    46.051\n20                            Barclays                    45.850\n21  Canadian Imperial Bank of Commerce                    43.544\n22                   Bank Central Asia                    43.344\n23                    Truist Financial                    41.923\n24        Oversea-Chinese Banking Corp                    41.362\n25                 State Bank of India                    40.562\n26                        State Street                    39.769\n27                       Deutsche Bank                    38.649\n28                            KBC Bank                    38.394\n29                         Danske Bank                    38.223\n30                        Ping An Bank                    37.993\n31                  Standard Chartered                    37.319\n32                United Overseas Bank                    35.128\n33                           QNB Group                    33.560\n34                         Bank Rakyat                    33.081"
                    },
                    "execution_count": 8,
                    "metadata": {},
                    "output_type": "execute_result"
                }
            ],
            "source": "def extract(filename):\n    extracted_data = pd.DataFrame()\n    for jsonfile in glob.glob(filename):\n        extracted_data = extracted_data.append(extract_from_json(jsonfile), ignore_index=True)\n    return    extracted_data\nextract(\"bank_market_cap_2.json\")\n    "
        },
        {
            "cell_type": "code",
            "execution_count": 9,
            "metadata": {},
            "outputs": [
                {
                    "name": "stdout",
                    "output_type": "stream",
                    "text": "0.7323984208000001\n"
                }
            ],
            "source": "def extract_from_csv(file_to_process):\n    dataframe = pd.read_csv(file_to_process)\n    return dataframe\ndef extract_csv(filename):\n    extracted_data = pd.DataFrame() #   columns=['Valuta','Rate']   \n    for csvfile in glob.glob(filename):\n        extracted_data = extracted_data.append(extract_from_csv(csvfile), ignore_index=True)\n        exchange_rate = extracted_data.loc[extracted_data[\"Unnamed: 0\"] == \"GBP\", [\"Rates\"]].astype(float)\n        koef = exchange_rate.iloc[0,0]\n    return koef \n\nprint(extract_csv('exchange_rates.csv'))"
        },
        {
            "cell_type": "markdown",
            "metadata": {},
            "source": "<b>Question 1</b> Load the file <code>exchange_rates.csv</code> as a dataframe and find the exchange rate for British pounds with the symbol <code>GBP</code>, store it in the variable  <code>exchange_rate</code>, you will be asked for the number. Hint: set the parameter  <code>index_col</code> to 0.\n"
        },
        {
            "cell_type": "code",
            "execution_count": 10,
            "metadata": {},
            "outputs": [],
            "source": "# Write your code here\ndef load(targetfile,data_to_load):\n    data_to_load.to_csv(targetfile, index = False)\n"
        },
        {
            "cell_type": "markdown",
            "metadata": {},
            "source": "## Transform\n\nUsing <code>exchange_rate</code> and the `exchange_rates.csv` file find the exchange rate of USD to GBP. Write a transform function that\n\n1.  Changes the `Market Cap (US$ Billion)` column from USD to GBP\n2.  Rounds the Market Cap (US$ Billion)\\` column to 3 decimal places\n3.  Rename `Market Cap (US$ Billion)` to `Market Cap (GBP$ Billion)`\n"
        },
        {
            "cell_type": "code",
            "execution_count": 11,
            "metadata": {},
            "outputs": [
                {
                    "data": {
                        "text/html": "<div>\n<style scoped>\n    .dataframe tbody tr th:only-of-type {\n        vertical-align: middle;\n    }\n\n    .dataframe tbody tr th {\n        vertical-align: top;\n    }\n\n    .dataframe thead th {\n        text-align: right;\n    }\n</style>\n<table border=\"1\" class=\"dataframe\">\n  <thead>\n    <tr style=\"text-align: right;\">\n      <th></th>\n      <th>Name</th>\n      <th>Market Cap (GBP Billion)</th>\n    </tr>\n  </thead>\n  <tbody>\n    <tr>\n      <th>0</th>\n      <td>JPMorgan Chase</td>\n      <td>286.319</td>\n    </tr>\n    <tr>\n      <th>1</th>\n      <td>Industrial and Commercial Bank of China</td>\n      <td>252.834</td>\n    </tr>\n    <tr>\n      <th>2</th>\n      <td>Bank of America</td>\n      <td>238.272</td>\n    </tr>\n    <tr>\n      <th>3</th>\n      <td>Wells Fargo</td>\n      <td>225.588</td>\n    </tr>\n    <tr>\n      <th>4</th>\n      <td>China Construction Bank</td>\n      <td>188.519</td>\n    </tr>\n    <tr>\n      <th>...</th>\n      <td>...</td>\n      <td>...</td>\n    </tr>\n    <tr>\n      <th>65</th>\n      <td>Ping An Bank</td>\n      <td>27.826</td>\n    </tr>\n    <tr>\n      <th>66</th>\n      <td>Standard Chartered</td>\n      <td>27.332</td>\n    </tr>\n    <tr>\n      <th>67</th>\n      <td>United Overseas Bank</td>\n      <td>25.728</td>\n    </tr>\n    <tr>\n      <th>68</th>\n      <td>QNB Group</td>\n      <td>24.579</td>\n    </tr>\n    <tr>\n      <th>69</th>\n      <td>Bank Rakyat</td>\n      <td>24.228</td>\n    </tr>\n  </tbody>\n</table>\n<p>70 rows \u00d7 2 columns</p>\n</div>",
                        "text/plain": "                                       Name  Market Cap (GBP Billion)\n0                            JPMorgan Chase                   286.319\n1   Industrial and Commercial Bank of China                   252.834\n2                           Bank of America                   238.272\n3                               Wells Fargo                   225.588\n4                   China Construction Bank                   188.519\n..                                      ...                       ...\n65                             Ping An Bank                    27.826\n66                       Standard Chartered                    27.332\n67                     United Overseas Bank                    25.728\n68                                QNB Group                    24.579\n69                              Bank Rakyat                    24.228\n\n[70 rows x 2 columns]"
                    },
                    "execution_count": 11,
                    "metadata": {},
                    "output_type": "execute_result"
                }
            ],
            "source": "extracted_data = extract(\"bank_market_cap_1.json\")\n\ndef transform(data):\n    data[\"Market Cap (US$ Billion)\"] = data[\"Market Cap (US$ Billion)\"].astype(float)  \n    koef = extract_csv('exchange_rates.csv') \n    data[\"Market Cap (US$ Billion)\"] = round(data[\"Market Cap (US$ Billion)\"] * koef,3)\n    data.rename(columns={'Market Cap (US$ Billion)': 'Market Cap (GBP Billion)'}, inplace = True)\n    return data\ntransformed_data = transform(extracted_data) \ntransformed_data\n"
        },
        {
            "cell_type": "markdown",
            "metadata": {},
            "source": "## Load\n\nCreate a function that takes a dataframe and load it to a csv named `bank_market_cap_gbp.csv`. Make sure to set `index` to `False`.\n"
        },
        {
            "cell_type": "code",
            "execution_count": 12,
            "metadata": {},
            "outputs": [],
            "source": "def load(targetfile,data_to_load):\n    data_to_load.to_csv(targetfile, index = False)"
        },
        {
            "cell_type": "markdown",
            "metadata": {},
            "source": "## Logging Function\n"
        },
        {
            "cell_type": "markdown",
            "metadata": {},
            "source": "Write the logging function <code>log</code> to log your data:\n"
        },
        {
            "cell_type": "code",
            "execution_count": 13,
            "metadata": {},
            "outputs": [],
            "source": "def log(message):\n    timestamp_format = '%Y-%h-%d-%H:%M:%S' # Year-Monthname-Day-Hour-Minute-Second\n    now = datetime.now() # get current timestamp\n    timestamp = now.strftime(timestamp_format)\n    with open(\"logfile.txt\",\"a\") as f:\n        f.write(timestamp + ',' + message + '\\n')"
        },
        {
            "cell_type": "markdown",
            "metadata": {},
            "source": "## Running the ETL Process\n"
        },
        {
            "cell_type": "markdown",
            "metadata": {},
            "source": "Log the process accordingly using the following <code>\"ETL Job Started\"</code> and <code>\"Extract phase Started\"</code>\n"
        },
        {
            "cell_type": "code",
            "execution_count": 15,
            "metadata": {},
            "outputs": [],
            "source": "# Write your code here\nlog(\"ETL Job Started\")\nlog(\"Extract phase Started\")\nextracted_data = extract(\"bank_market_cap_1.json\")\n"
        },
        {
            "cell_type": "markdown",
            "metadata": {},
            "source": "### Extract\n"
        },
        {
            "cell_type": "markdown",
            "metadata": {},
            "source": "<code>Question 2</code> Use the function <code>extract</code>, and print the first 5 rows, take a screen shot:\n"
        },
        {
            "cell_type": "code",
            "execution_count": 16,
            "metadata": {},
            "outputs": [
                {
                    "data": {
                        "text/html": "<div>\n<style scoped>\n    .dataframe tbody tr th:only-of-type {\n        vertical-align: middle;\n    }\n\n    .dataframe tbody tr th {\n        vertical-align: top;\n    }\n\n    .dataframe thead th {\n        text-align: right;\n    }\n</style>\n<table border=\"1\" class=\"dataframe\">\n  <thead>\n    <tr style=\"text-align: right;\">\n      <th></th>\n      <th>Name</th>\n      <th>Market Cap (US$ Billion)</th>\n    </tr>\n  </thead>\n  <tbody>\n    <tr>\n      <th>0</th>\n      <td>JPMorgan Chase</td>\n      <td>390.934</td>\n    </tr>\n    <tr>\n      <th>1</th>\n      <td>Industrial and Commercial Bank of China</td>\n      <td>345.214</td>\n    </tr>\n    <tr>\n      <th>2</th>\n      <td>Bank of America</td>\n      <td>325.331</td>\n    </tr>\n    <tr>\n      <th>3</th>\n      <td>Wells Fargo</td>\n      <td>308.013</td>\n    </tr>\n    <tr>\n      <th>4</th>\n      <td>China Construction Bank</td>\n      <td>257.399</td>\n    </tr>\n  </tbody>\n</table>\n</div>",
                        "text/plain": "                                      Name  Market Cap (US$ Billion)\n0                           JPMorgan Chase                   390.934\n1  Industrial and Commercial Bank of China                   345.214\n2                          Bank of America                   325.331\n3                              Wells Fargo                   308.013\n4                  China Construction Bank                   257.399"
                    },
                    "execution_count": 16,
                    "metadata": {},
                    "output_type": "execute_result"
                }
            ],
            "source": "extracted_data = extract(\"bank_market_cap_1.json\")\nextracted_data.head(5)\n"
        },
        {
            "cell_type": "markdown",
            "metadata": {},
            "source": "Log the data as <code>\"Extract phase Ended\"</code>\n"
        },
        {
            "cell_type": "code",
            "execution_count": 17,
            "metadata": {},
            "outputs": [],
            "source": "# Write your code here\nlog(\"Extract phase Ended\")"
        },
        {
            "cell_type": "markdown",
            "metadata": {},
            "source": "### Transform\n"
        },
        {
            "cell_type": "markdown",
            "metadata": {},
            "source": "Log the following  <code>\"Transform phase Started\"</code>\n"
        },
        {
            "cell_type": "code",
            "execution_count": 18,
            "metadata": {},
            "outputs": [],
            "source": "# Write your code here\nlog(\"Transform phase Started\")\n"
        },
        {
            "cell_type": "markdown",
            "metadata": {},
            "source": "<code>Question 3</code> Use the function <code>transform</code> and print the first 5 rows of the output, take a screen shot:\n"
        },
        {
            "cell_type": "code",
            "execution_count": 19,
            "metadata": {},
            "outputs": [
                {
                    "data": {
                        "text/html": "<div>\n<style scoped>\n    .dataframe tbody tr th:only-of-type {\n        vertical-align: middle;\n    }\n\n    .dataframe tbody tr th {\n        vertical-align: top;\n    }\n\n    .dataframe thead th {\n        text-align: right;\n    }\n</style>\n<table border=\"1\" class=\"dataframe\">\n  <thead>\n    <tr style=\"text-align: right;\">\n      <th></th>\n      <th>Name</th>\n      <th>Market Cap (GBP Billion)</th>\n    </tr>\n  </thead>\n  <tbody>\n    <tr>\n      <th>0</th>\n      <td>JPMorgan Chase</td>\n      <td>286.319</td>\n    </tr>\n    <tr>\n      <th>1</th>\n      <td>Industrial and Commercial Bank of China</td>\n      <td>252.834</td>\n    </tr>\n    <tr>\n      <th>2</th>\n      <td>Bank of America</td>\n      <td>238.272</td>\n    </tr>\n    <tr>\n      <th>3</th>\n      <td>Wells Fargo</td>\n      <td>225.588</td>\n    </tr>\n    <tr>\n      <th>4</th>\n      <td>China Construction Bank</td>\n      <td>188.519</td>\n    </tr>\n  </tbody>\n</table>\n</div>",
                        "text/plain": "                                      Name  Market Cap (GBP Billion)\n0                           JPMorgan Chase                   286.319\n1  Industrial and Commercial Bank of China                   252.834\n2                          Bank of America                   238.272\n3                              Wells Fargo                   225.588\n4                  China Construction Bank                   188.519"
                    },
                    "execution_count": 19,
                    "metadata": {},
                    "output_type": "execute_result"
                }
            ],
            "source": "# Call the function here\nextracted_data = extract(\"bank_market_cap_1.json\")\n\ndef transform(data):\n    data[\"Market Cap (US$ Billion)\"] = data[\"Market Cap (US$ Billion)\"].astype(float)  \n    koef = extract_csv('exchange_rates.csv') \n    data[\"Market Cap (US$ Billion)\"] = round(data[\"Market Cap (US$ Billion)\"] * koef,3)\n    data.rename(columns={'Market Cap (US$ Billion)': 'Market Cap (GBP Billion)'}, inplace = True)\n    return data\ntransformed_data = transform(extracted_data) \n\n# Print the first 5 rows here\ntransformed_data.head(5) \n\n"
        },
        {
            "cell_type": "markdown",
            "metadata": {},
            "source": "Log your data <code>\"Transform phase Ended\"</code>\n"
        },
        {
            "cell_type": "code",
            "execution_count": 20,
            "metadata": {},
            "outputs": [],
            "source": "# Write your code here\nlog(\"Transform phase Ended\")\n"
        },
        {
            "cell_type": "markdown",
            "metadata": {},
            "source": "### Load\n"
        },
        {
            "cell_type": "markdown",
            "metadata": {},
            "source": "Log the following `\"Load phase Started\"`.\n"
        },
        {
            "cell_type": "code",
            "execution_count": 21,
            "metadata": {},
            "outputs": [],
            "source": "# Write your code here\nlog(\"Load phase Started\")\n"
        },
        {
            "cell_type": "markdown",
            "metadata": {},
            "source": "Call the load function\n"
        },
        {
            "cell_type": "code",
            "execution_count": 22,
            "metadata": {},
            "outputs": [],
            "source": "# Write your code here\nload('bank_market_cap_gbp.csv',transformed_data)\n"
        },
        {
            "cell_type": "markdown",
            "metadata": {},
            "source": "Log the following `\"Load phase Ended\"`.\n"
        },
        {
            "cell_type": "code",
            "execution_count": 23,
            "metadata": {},
            "outputs": [],
            "source": "# Write your code here\nlog(\"Load phase Ended\")\n"
        },
        {
            "cell_type": "markdown",
            "metadata": {},
            "source": "## Authors\n"
        },
        {
            "cell_type": "markdown",
            "metadata": {},
            "source": "Ramesh Sannareddy, Joseph Santrcangelo and Azim Hirjani\n"
        },
        {
            "cell_type": "markdown",
            "metadata": {},
            "source": "### Other Contributors\n"
        },
        {
            "cell_type": "markdown",
            "metadata": {},
            "source": "Rav Ahuja\n"
        },
        {
            "cell_type": "markdown",
            "metadata": {},
            "source": "## Change Log\n"
        },
        {
            "cell_type": "markdown",
            "metadata": {},
            "source": "| Date (YYYY-MM-DD) | Version | Changed By        | Change Description                 |\n| ----------------- | ------- | ----------------- | ---------------------------------- |\n| 2020-11-25        | 0.1     | Ramesh Sannareddy | Created initial version of the lab |\n"
        },
        {
            "cell_type": "markdown",
            "metadata": {},
            "source": "Copyright \u00a9 2020 IBM Corporation. This notebook and its source code are released under the terms of the [MIT License](https://cognitiveclass.ai/mit-license?utm_medium=Exinfluencer&utm_source=Exinfluencer&utm_content=000026UJ&utm_term=10006555&utm_id=NA-SkillsNetwork-Channel-SkillsNetworkCoursesIBMDeveloperSkillsNetworkPY0221ENSkillsNetwork23455645-2021-01-01&cm_mmc=Email_Newsletter-\\_-Developer_Ed%2BTech-\\_-WW_WW-\\_-SkillsNetwork-Courses-IBM-DA0321EN-SkillsNetwork-21426264&cm_mmca1=000026UJ&cm_mmca2=10006555&cm_mmca3=M12345678&cvosrc=email.Newsletter.M12345678&cvo_campaign=000026UJ).\n"
        }
    ],
    "metadata": {
        "kernelspec": {
            "display_name": "Python 3.8",
            "language": "python",
            "name": "python3"
        },
        "language_info": {
            "codemirror_mode": {
                "name": "ipython",
                "version": 3
            },
            "file_extension": ".py",
            "mimetype": "text/x-python",
            "name": "python",
            "nbconvert_exporter": "python",
            "pygments_lexer": "ipython3",
            "version": "3.8.12"
        }
    },
    "nbformat": 4,
    "nbformat_minor": 4
}