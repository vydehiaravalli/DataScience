{
    "cells": [
        {
            "cell_type": "markdown",
            "metadata": {},
            "source": "<center>\n    <img src=\"https://gitlab.com/ibm/skills-network/courses/placeholder101/-/raw/master/labs/module%201/images/IDSNlogo.png\" width=\"300\" alt=\"cognitiveclass.ai logo\"  />\n</center>\n"
        },
        {
            "cell_type": "markdown",
            "metadata": {},
            "source": "# Peer Review Assignment - Data Engineer - Extract API Data\n"
        },
        {
            "cell_type": "markdown",
            "metadata": {},
            "source": "Estimated time needed: **20** minutes\n"
        },
        {
            "cell_type": "markdown",
            "metadata": {},
            "source": "## Objectives\n\nIn this part you will:\n\n*   Collect exchange rate data using an API\n*   Store the data as a CSV\n"
        },
        {
            "cell_type": "markdown",
            "metadata": {},
            "source": "For this lab, we are going to be using Python and several Python libraries. Some of these libraries might be installed in your lab environment or in SN Labs. Others may need to be installed by you. The cells below will install these libraries when executed.\n"
        },
        {
            "cell_type": "markdown",
            "metadata": {},
            "source": "## Imports\n\nImport any additional libraries you may need here.\n"
        },
        {
            "cell_type": "code",
            "execution_count": null,
            "metadata": {},
            "outputs": [],
            "source": "import urllib.request\nfrom urllib.request import urlopen, Request\nimport pandas as pd\nimport json\nimport glob\nimport xml.etree.ElementTree as ET  # this module helps in processing XML files.\nfrom datetime import datetime"
        },
        {
            "cell_type": "markdown",
            "metadata": {},
            "source": "## Extract Data Using an API\n"
        },
        {
            "cell_type": "markdown",
            "metadata": {},
            "source": "Using ExchangeRate-API we will extract currency exchange rate data. Use the below steps to get the access key and to get the data.\n\n1.  Open the url : [https://exchangeratesapi.io/](https://exchangeratesapi.io/?utm_medium=Exinfluencer&utm_source=Exinfluencer&utm_content=000026UJ&utm_term=10006555&utm_id=NA-SkillsNetwork-Channel-SkillsNetworkCoursesIBMDeveloperSkillsNetworkPY0221ENSkillsNetwork23455645-2021-01-01) and create a free account.\n2.  Once the account is created. You will get the Get the Free API key option on the top as shown below:\n\n<img src=\"https://cf-courses-data.s3.us.cloud-object-storage.appdomain.cloud/IBMDeveloperSkillsNetwork-PY0221EN-SkillsNetwork/labs/module%206/Final%20Assignment/Images/getapi.png\"/>\n\n3.  Copy the API key and use in the url in Question 1.\n"
        },
        {
            "cell_type": "code",
            "execution_count": 33,
            "metadata": {},
            "outputs": [
                {
                    "name": "stdout",
                    "output_type": "stream",
                    "text": "--2022-01-03 23:13:37--  https://cf-courses-data.s3.us.cloud-object-storage.appdomain.cloud/IBMDeveloperSkillsNetwork-PY0221EN-SkillsNetwork/labs/module%206/Lab%20-%20Extract%20Transform%20Load/data/bank_market_cap_1.json\nResolving cf-courses-data.s3.us.cloud-object-storage.appdomain.cloud (cf-courses-data.s3.us.cloud-object-storage.appdomain.cloud)... 198.23.119.245\nConnecting to cf-courses-data.s3.us.cloud-object-storage.appdomain.cloud (cf-courses-data.s3.us.cloud-object-storage.appdomain.cloud)|198.23.119.245|:443... connected.\nHTTP request sent, awaiting response... 200 OK\nLength: 2815 (2.7K) [application/json]\nSaving to: \u2018bank_market_cap_1.json.1\u2019\n\nbank_market_cap_1.j 100%[===================>]   2.75K  --.-KB/s    in 0s      \n\n2022-01-03 23:13:37 (66.4 MB/s) - \u2018bank_market_cap_1.json.1\u2019 saved [2815/2815]\n\n--2022-01-03 23:13:39--  https://cf-courses-data.s3.us.cloud-object-storage.appdomain.cloud/IBMDeveloperSkillsNetwork-PY0221EN-SkillsNetwork/labs/module%206/Lab%20-%20Extract%20Transform%20Load/data/bank_market_cap_2.json\nResolving cf-courses-data.s3.us.cloud-object-storage.appdomain.cloud (cf-courses-data.s3.us.cloud-object-storage.appdomain.cloud)... 198.23.119.245\nConnecting to cf-courses-data.s3.us.cloud-object-storage.appdomain.cloud (cf-courses-data.s3.us.cloud-object-storage.appdomain.cloud)|198.23.119.245|:443... connected.\nHTTP request sent, awaiting response... 200 OK\nLength: 1429 (1.4K) [application/json]\nSaving to: \u2018bank_market_cap_2.json.1\u2019\n\nbank_market_cap_2.j 100%[===================>]   1.40K  --.-KB/s    in 0s      \n\n2022-01-03 23:13:39 (32.5 MB/s) - \u2018bank_market_cap_2.json.1\u2019 saved [1429/1429]\n\n--2022-01-03 23:13:40--  https://cf-courses-data.s3.us.cloud-object-storage.appdomain.cloud/IBMDeveloperSkillsNetwork-PY0221EN-SkillsNetwork/labs/module%206/Final%20Assignment/exchange_rates.csv\nResolving cf-courses-data.s3.us.cloud-object-storage.appdomain.cloud (cf-courses-data.s3.us.cloud-object-storage.appdomain.cloud)... 198.23.119.245\nConnecting to cf-courses-data.s3.us.cloud-object-storage.appdomain.cloud (cf-courses-data.s3.us.cloud-object-storage.appdomain.cloud)|198.23.119.245|:443... connected.\nHTTP request sent, awaiting response... 200 OK\nLength: 590 [text/csv]\nSaving to: \u2018exchange_rates.csv.1\u2019\n\nexchange_rates.csv. 100%[===================>]     590  --.-KB/s    in 0s      \n\n2022-01-03 23:13:40 (12.8 MB/s) - \u2018exchange_rates.csv.1\u2019 saved [590/590]\n\n"
                }
            ],
            "source": "!wget https://cf-courses-data.s3.us.cloud-object-storage.appdomain.cloud/IBMDeveloperSkillsNetwork-PY0221EN-SkillsNetwork/labs/module%206/Lab%20-%20Extract%20Transform%20Load/data/source.zip\n!wget https://cf-courses-data.s3.us.cloud-object-storage.appdomain.cloud/IBMDeveloperSkillsNetwork-PY0221EN-SkillsNetwork/labs/module%206/Lab%20-%20Extract%20Transform%20Load/data/bank_market_cap_1.json\n!wget https://cf-courses-data.s3.us.cloud-object-storage.appdomain.cloud/IBMDeveloperSkillsNetwork-PY0221EN-SkillsNetwork/labs/module%206/Lab%20-%20Extract%20Transform%20Load/data/bank_market_cap_2.json\n!wget https://cf-courses-data.s3.us.cloud-object-storage.appdomain.cloud/IBMDeveloperSkillsNetwork-PY0221EN-SkillsNetwork/labs/module%206/Final%20Assignment/exchange_rates.csv\n"
        },
        {
            "cell_type": "code",
            "execution_count": null,
            "metadata": {},
            "outputs": [],
            "source": "!unzip source.zip"
        },
        {
            "cell_type": "code",
            "execution_count": null,
            "metadata": {},
            "outputs": [],
            "source": "def extract_from_json(file_to_process):\n    df = pd.read_json(file_to_process)\n    return df"
        },
        {
            "cell_type": "code",
            "execution_count": 17,
            "metadata": {},
            "outputs": [],
            "source": "columns=['Name','Market Cap (US$ Billion)']"
        },
        {
            "cell_type": "code",
            "execution_count": 19,
            "metadata": {},
            "outputs": [],
            "source": "import glob"
        },
        {
            "cell_type": "code",
            "execution_count": 21,
            "metadata": {},
            "outputs": [
                {
                    "data": {
                        "text/html": "<div>\n<style scoped>\n    .dataframe tbody tr th:only-of-type {\n        vertical-align: middle;\n    }\n\n    .dataframe tbody tr th {\n        vertical-align: top;\n    }\n\n    .dataframe thead th {\n        text-align: right;\n    }\n</style>\n<table border=\"1\" class=\"dataframe\">\n  <thead>\n    <tr style=\"text-align: right;\">\n      <th></th>\n      <th>Name</th>\n      <th>Market Cap (US$ Billion)</th>\n    </tr>\n  </thead>\n  <tbody>\n    <tr>\n      <th>0</th>\n      <td>JPMorgan Chase</td>\n      <td>390.934</td>\n    </tr>\n    <tr>\n      <th>1</th>\n      <td>Industrial and Commercial Bank of China</td>\n      <td>345.214</td>\n    </tr>\n    <tr>\n      <th>2</th>\n      <td>Bank of America</td>\n      <td>325.331</td>\n    </tr>\n    <tr>\n      <th>3</th>\n      <td>Wells Fargo</td>\n      <td>308.013</td>\n    </tr>\n    <tr>\n      <th>4</th>\n      <td>China Construction Bank</td>\n      <td>257.399</td>\n    </tr>\n    <tr>\n      <th>...</th>\n      <td>...</td>\n      <td>...</td>\n    </tr>\n    <tr>\n      <th>65</th>\n      <td>Ping An Bank</td>\n      <td>37.993</td>\n    </tr>\n    <tr>\n      <th>66</th>\n      <td>Standard Chartered</td>\n      <td>37.319</td>\n    </tr>\n    <tr>\n      <th>67</th>\n      <td>United Overseas Bank</td>\n      <td>35.128</td>\n    </tr>\n    <tr>\n      <th>68</th>\n      <td>QNB Group</td>\n      <td>33.560</td>\n    </tr>\n    <tr>\n      <th>69</th>\n      <td>Bank Rakyat</td>\n      <td>33.081</td>\n    </tr>\n  </tbody>\n</table>\n<p>70 rows \u00d7 2 columns</p>\n</div>",
                        "text/plain": "                                       Name  Market Cap (US$ Billion)\n0                            JPMorgan Chase                   390.934\n1   Industrial and Commercial Bank of China                   345.214\n2                           Bank of America                   325.331\n3                               Wells Fargo                   308.013\n4                   China Construction Bank                   257.399\n..                                      ...                       ...\n65                             Ping An Bank                    37.993\n66                       Standard Chartered                    37.319\n67                     United Overseas Bank                    35.128\n68                                QNB Group                    33.560\n69                              Bank Rakyat                    33.081\n\n[70 rows x 2 columns]"
                    },
                    "execution_count": 21,
                    "metadata": {},
                    "output_type": "execute_result"
                }
            ],
            "source": "def extract(filename):\n    data_extract = pd.DataFrame()\n    for jsonfile in glob.glob(filename):\n        data_extract = data_extract.append(extract_from_json(jsonfile), ignore_index=True)\n    return    data_extract\nextract(\"bank_market_cap_1.json\")"
        },
        {
            "cell_type": "code",
            "execution_count": 22,
            "metadata": {},
            "outputs": [
                {
                    "data": {
                        "text/html": "<div>\n<style scoped>\n    .dataframe tbody tr th:only-of-type {\n        vertical-align: middle;\n    }\n\n    .dataframe tbody tr th {\n        vertical-align: top;\n    }\n\n    .dataframe thead th {\n        text-align: right;\n    }\n</style>\n<table border=\"1\" class=\"dataframe\">\n  <thead>\n    <tr style=\"text-align: right;\">\n      <th></th>\n      <th>Name</th>\n      <th>Market Cap (US$ Billion)</th>\n    </tr>\n  </thead>\n  <tbody>\n    <tr>\n      <th>0</th>\n      <td>JPMorgan Chase</td>\n      <td>390.934</td>\n    </tr>\n    <tr>\n      <th>1</th>\n      <td>Industrial and Commercial Bank of China</td>\n      <td>345.214</td>\n    </tr>\n    <tr>\n      <th>2</th>\n      <td>Bank of America</td>\n      <td>325.331</td>\n    </tr>\n    <tr>\n      <th>3</th>\n      <td>Wells Fargo</td>\n      <td>308.013</td>\n    </tr>\n    <tr>\n      <th>4</th>\n      <td>China Construction Bank</td>\n      <td>257.399</td>\n    </tr>\n    <tr>\n      <th>...</th>\n      <td>...</td>\n      <td>...</td>\n    </tr>\n    <tr>\n      <th>65</th>\n      <td>Ping An Bank</td>\n      <td>37.993</td>\n    </tr>\n    <tr>\n      <th>66</th>\n      <td>Standard Chartered</td>\n      <td>37.319</td>\n    </tr>\n    <tr>\n      <th>67</th>\n      <td>United Overseas Bank</td>\n      <td>35.128</td>\n    </tr>\n    <tr>\n      <th>68</th>\n      <td>QNB Group</td>\n      <td>33.560</td>\n    </tr>\n    <tr>\n      <th>69</th>\n      <td>Bank Rakyat</td>\n      <td>33.081</td>\n    </tr>\n  </tbody>\n</table>\n<p>70 rows \u00d7 2 columns</p>\n</div>",
                        "text/plain": "                                       Name  Market Cap (US$ Billion)\n0                            JPMorgan Chase                   390.934\n1   Industrial and Commercial Bank of China                   345.214\n2                           Bank of America                   325.331\n3                               Wells Fargo                   308.013\n4                   China Construction Bank                   257.399\n..                                      ...                       ...\n65                             Ping An Bank                    37.993\n66                       Standard Chartered                    37.319\n67                     United Overseas Bank                    35.128\n68                                QNB Group                    33.560\n69                              Bank Rakyat                    33.081\n\n[70 rows x 2 columns]"
                    },
                    "execution_count": 22,
                    "metadata": {},
                    "output_type": "execute_result"
                }
            ],
            "source": "def extract(filename):\n    data_extract = pd.DataFrame()\n    for jsonfile in glob.glob(filename):\n        data_extract = data_extract.append(extract_from_json(jsonfile), ignore_index=True)\n    return    data_extract\nextract(\"bank_market_cap_1.json\")"
        },
        {
            "cell_type": "code",
            "execution_count": 24,
            "metadata": {},
            "outputs": [
                {
                    "name": "stdout",
                    "output_type": "stream",
                    "text": "0.7323984208000001\n"
                }
            ],
            "source": "def extract_from_csv(file_to_process):\n    df = pd.read_csv(file_to_process)\n    return df\ndef extract_csv(filename):\n    data_extract = pd.DataFrame() #   columns=['Value','Rate']   \n    for csvfile in glob.glob(filename):\n        data_extract = data_extract.append(extract_from_csv(csvfile), ignore_index=True)\n        exchange_rate = data_extract.loc[data_extract[\"Unnamed: 0\"] == \"GBP\", [\"Rates\"]].astype(float)\n        exchange = exchange_rate.iloc[0,0]\n    return exchange \n\nprint(extract_csv('exchange_rates.csv'))"
        },
        {
            "cell_type": "code",
            "execution_count": 26,
            "metadata": {},
            "outputs": [
                {
                    "data": {
                        "text/html": "<div>\n<style scoped>\n    .dataframe tbody tr th:only-of-type {\n        vertical-align: middle;\n    }\n\n    .dataframe tbody tr th {\n        vertical-align: top;\n    }\n\n    .dataframe thead th {\n        text-align: right;\n    }\n</style>\n<table border=\"1\" class=\"dataframe\">\n  <thead>\n    <tr style=\"text-align: right;\">\n      <th></th>\n      <th>Name</th>\n      <th>Market Cap (GBP Billion)</th>\n    </tr>\n  </thead>\n  <tbody>\n    <tr>\n      <th>0</th>\n      <td>JPMorgan Chase</td>\n      <td>286.319</td>\n    </tr>\n    <tr>\n      <th>1</th>\n      <td>Industrial and Commercial Bank of China</td>\n      <td>252.834</td>\n    </tr>\n    <tr>\n      <th>2</th>\n      <td>Bank of America</td>\n      <td>238.272</td>\n    </tr>\n    <tr>\n      <th>3</th>\n      <td>Wells Fargo</td>\n      <td>225.588</td>\n    </tr>\n    <tr>\n      <th>4</th>\n      <td>China Construction Bank</td>\n      <td>188.519</td>\n    </tr>\n    <tr>\n      <th>...</th>\n      <td>...</td>\n      <td>...</td>\n    </tr>\n    <tr>\n      <th>65</th>\n      <td>Ping An Bank</td>\n      <td>27.826</td>\n    </tr>\n    <tr>\n      <th>66</th>\n      <td>Standard Chartered</td>\n      <td>27.332</td>\n    </tr>\n    <tr>\n      <th>67</th>\n      <td>United Overseas Bank</td>\n      <td>25.728</td>\n    </tr>\n    <tr>\n      <th>68</th>\n      <td>QNB Group</td>\n      <td>24.579</td>\n    </tr>\n    <tr>\n      <th>69</th>\n      <td>Bank Rakyat</td>\n      <td>24.228</td>\n    </tr>\n  </tbody>\n</table>\n<p>70 rows \u00d7 2 columns</p>\n</div>",
                        "text/plain": "                                       Name  Market Cap (GBP Billion)\n0                            JPMorgan Chase                   286.319\n1   Industrial and Commercial Bank of China                   252.834\n2                           Bank of America                   238.272\n3                               Wells Fargo                   225.588\n4                   China Construction Bank                   188.519\n..                                      ...                       ...\n65                             Ping An Bank                    27.826\n66                       Standard Chartered                    27.332\n67                     United Overseas Bank                    25.728\n68                                QNB Group                    24.579\n69                              Bank Rakyat                    24.228\n\n[70 rows x 2 columns]"
                    },
                    "execution_count": 26,
                    "metadata": {},
                    "output_type": "execute_result"
                }
            ],
            "source": "data_extract = extract(\"bank_market_cap_1.json\")\n\ndef transform(data):\n    data[\"Market Cap (US$ Billion)\"] = data[\"Market Cap (US$ Billion)\"].astype(float)  \n    coef = extract_csv('exchange_rates.csv') \n    data[\"Market Cap (US$ Billion)\"] = round(data[\"Market Cap (US$ Billion)\"] * coef,3)\n    data.rename(columns={'Market Cap (US$ Billion)': 'Market Cap (GBP Billion)'}, inplace = True)\n    return data\ndata_transform = transform(data_extract) \ndata_transform\n"
        },
        {
            "cell_type": "code",
            "execution_count": 27,
            "metadata": {},
            "outputs": [],
            "source": "def load(targetfile,data_to_load):\n    data_to_load.to_csv(targetfile, index = False)"
        },
        {
            "cell_type": "code",
            "execution_count": 28,
            "metadata": {},
            "outputs": [],
            "source": "def log(message):\n    timestamp_format = '%Y-%h-%d-%H:%M:%S' # Year-Monthname-Day-Hour-Minute-Second\n    now = datetime.now() # get current timestamp\n    timestamp = now.strftime(timestamp_format)\n    with open(\"logfile.txt\",\"a\") as f:\n        f.write(timestamp + ',' + message + '\\n')"
        },
        {
            "cell_type": "code",
            "execution_count": null,
            "metadata": {},
            "outputs": [],
            "source": "log(\"ETL Job Started\")"
        },
        {
            "cell_type": "code",
            "execution_count": null,
            "metadata": {},
            "outputs": [],
            "source": "log(\"Extract phase Started\")\ndata_extract = extract(\"bank_market_cap_1.json\")"
        },
        {
            "cell_type": "code",
            "execution_count": null,
            "metadata": {},
            "outputs": [],
            "source": "log(\"Extract phase Ended\")\ndata_extract.head(5)"
        },
        {
            "cell_type": "code",
            "execution_count": null,
            "metadata": {},
            "outputs": [],
            "source": "log(\"Transform phase Started\")"
        },
        {
            "cell_type": "code",
            "execution_count": null,
            "metadata": {},
            "outputs": [],
            "source": "data_transform = transform(data_extract)\ndata_transform.head(5) "
        },
        {
            "cell_type": "code",
            "execution_count": null,
            "metadata": {},
            "outputs": [],
            "source": "log(\"Transform phase Ended\")"
        },
        {
            "cell_type": "code",
            "execution_count": null,
            "metadata": {},
            "outputs": [],
            "source": "load('bank_market_cap_gbp.csv',data_transform)"
        },
        {
            "cell_type": "code",
            "execution_count": null,
            "metadata": {},
            "outputs": [],
            "source": "log(\"Load phase Ended\")"
        },
        {
            "cell_type": "markdown",
            "metadata": {},
            "source": "### Save as DataFrame\n\n<b> Question 2</b>  Using the data gathered turn it into a `pandas` dataframe. The dataframe should have the Currency as the index and `Rate` as their columns. Make sure to drop unnecessary columns.\n"
        },
        {
            "cell_type": "code",
            "execution_count": 2,
            "metadata": {},
            "outputs": [],
            "source": "url = \"http://api.exchangeratesapi.io/v1/latest?base=EUR&access_key=8fdb0597bc16069403004360703658b7\"  #Make sure to change ******* to your API key.\n"
        },
        {
            "cell_type": "code",
            "execution_count": 9,
            "metadata": {},
            "outputs": [
                {
                    "data": {
                        "text/html": "<div>\n<style scoped>\n    .dataframe tbody tr th:only-of-type {\n        vertical-align: middle;\n    }\n\n    .dataframe tbody tr th {\n        vertical-align: top;\n    }\n\n    .dataframe thead th {\n        text-align: right;\n    }\n</style>\n<table border=\"1\" class=\"dataframe\">\n  <thead>\n    <tr style=\"text-align: right;\">\n      <th></th>\n      <th>Rates</th>\n    </tr>\n    <tr>\n      <th>Currency</th>\n      <th></th>\n    </tr>\n  </thead>\n  <tbody>\n    <tr>\n      <th>AED</th>\n      <td>4.159986</td>\n    </tr>\n    <tr>\n      <th>AFN</th>\n      <td>117.209502</td>\n    </tr>\n    <tr>\n      <th>ALL</th>\n      <td>120.613523</td>\n    </tr>\n    <tr>\n      <th>AMD</th>\n      <td>560.333008</td>\n    </tr>\n    <tr>\n      <th>ANG</th>\n      <td>2.042214</td>\n    </tr>\n    <tr>\n      <th>...</th>\n      <td>...</td>\n    </tr>\n    <tr>\n      <th>YER</th>\n      <td>283.421474</td>\n    </tr>\n    <tr>\n      <th>ZAR</th>\n      <td>17.744626</td>\n    </tr>\n    <tr>\n      <th>ZMK</th>\n      <td>10194.304215</td>\n    </tr>\n    <tr>\n      <th>ZMW</th>\n      <td>18.753166</td>\n    </tr>\n    <tr>\n      <th>ZWL</th>\n      <td>364.681835</td>\n    </tr>\n  </tbody>\n</table>\n<p>168 rows \u00d7 1 columns</p>\n</div>",
                        "text/plain": "                 Rates\nCurrency              \nAED           4.159986\nAFN         117.209502\nALL         120.613523\nAMD         560.333008\nANG           2.042214\n...                ...\nYER         283.421474\nZAR          17.744626\nZMK       10194.304215\nZMW          18.753166\nZWL         364.681835\n\n[168 rows x 1 columns]"
                    },
                    "execution_count": 9,
                    "metadata": {},
                    "output_type": "execute_result"
                }
            ],
            "source": "# Drop unnescessary columns\ndf = pd.DataFrame(data)\n\ndf_drop = df.drop(columns = ['success','timestamp','base','date'])\ndf_drop\n\ndf_drop.index.name = 'Currency'\ndf_drop.rename(columns ={'rates':'Rates'}, inplace = True)\ndf_drop\n\n"
        },
        {
            "cell_type": "code",
            "execution_count": 5,
            "metadata": {},
            "outputs": [
                {
                    "data": {
                        "text/plain": "{'success': True,\n 'timestamp': 1641248944,\n 'base': 'EUR',\n 'date': '2022-01-03',\n 'rates': {'AED': 4.148459,\n  'AFN': 117.181483,\n  'ALL': 120.004864,\n  'AMD': 543.936268,\n  'ANG': 2.036385,\n  'AOA': 625.95078,\n  'ARS': 116.285835,\n  'AUD': 1.571301,\n  'AWG': 2.033591,\n  'AZN': 1.922067,\n  'BAM': 1.946025,\n  'BBD': 2.281356,\n  'BDT': 96.937373,\n  'BGN': 1.955487,\n  'BHD': 0.425794,\n  'BIF': 2264.565557,\n  'BMD': 1.129459,\n  'BND': 1.525348,\n  'BOB': 7.801962,\n  'BRL': 6.418267,\n  'BSD': 1.129932,\n  'BTC': 2.4387497e-05,\n  'BTN': 83.976577,\n  'BWP': 13.285653,\n  'BYN': 2.889043,\n  'BYR': 22137.398964,\n  'BZD': 2.277525,\n  'CAD': 1.440208,\n  'CDF': 2262.87624,\n  'CHF': 1.037971,\n  'CLF': 0.034866,\n  'CLP': 962.071161,\n  'CNY': 7.178956,\n  'COP': 4591.059359,\n  'CRC': 725.335341,\n  'CUC': 1.129459,\n  'CUP': 29.930667,\n  'CVE': 110.545809,\n  'CZK': 24.801567,\n  'DJF': 200.727645,\n  'DKK': 7.437374,\n  'DOP': 64.746268,\n  'DZD': 157.177774,\n  'EGP': 17.788303,\n  'ERN': 16.941975,\n  'ETB': 55.625438,\n  'EUR': 1,\n  'FJD': 2.403716,\n  'FKP': 0.85204,\n  'GBP': 0.838018,\n  'GEL': 3.490443,\n  'GGP': 0.85204,\n  'GHS': 6.945952,\n  'GIP': 0.85204,\n  'GMD': 59.804756,\n  'GNF': 10546.322997,\n  'GTQ': 8.719957,\n  'GYD': 236.394142,\n  'HKD': 8.807352,\n  'HNL': 27.61509,\n  'HRK': 7.518589,\n  'HTG': 112.935465,\n  'HUF': 367.255219,\n  'IDR': 16132.798914,\n  'ILS': 3.513962,\n  'IMP': 0.85204,\n  'INR': 84.039609,\n  'IQD': 1649.010331,\n  'IRR': 47719.647956,\n  'ISK': 147.597551,\n  'JEP': 0.85204,\n  'JMD': 173.913572,\n  'JOD': 0.800752,\n  'JPY': 130.261083,\n  'KES': 127.798509,\n  'KGS': 95.784248,\n  'KHR': 4602.546434,\n  'KMF': 492.72621,\n  'KPW': 1016.51313,\n  'KRW': 1350.420811,\n  'KWD': 0.341684,\n  'KYD': 0.941577,\n  'KZT': 491.493571,\n  'LAK': 12655.590018,\n  'LBP': 1706.409467,\n  'LKR': 229.227891,\n  'LRD': 164.618524,\n  'LSL': 17.87954,\n  'LTL': 3.334999,\n  'LVL': 0.683198,\n  'LYD': 5.196554,\n  'MAD': 10.472908,\n  'MDL': 20.077836,\n  'MGA': 4478.304978,\n  'MKD': 61.335348,\n  'MMK': 2008.956979,\n  'MNT': 3228.428646,\n  'MOP': 9.074975,\n  'MRO': 403.216715,\n  'MUR': 49.248086,\n  'MVR': 17.44985,\n  'MWK': 920.509133,\n  'MXN': 23.170572,\n  'MYR': 4.712671,\n  'MZN': 72.093194,\n  'NAD': 17.890791,\n  'NGN': 466.173213,\n  'NIO': 39.954618,\n  'NOK': 10.021934,\n  'NPR': 134.365961,\n  'NZD': 1.665809,\n  'OMR': 0.434874,\n  'PAB': 1.129932,\n  'PEN': 4.499794,\n  'PGK': 3.986662,\n  'PHP': 57.650419,\n  'PKR': 199.347891,\n  'PLN': 4.575331,\n  'PYG': 7764.350565,\n  'QAR': 4.112418,\n  'RON': 4.947936,\n  'RSD': 116.962677,\n  'RUB': 84.055479,\n  'RWF': 1147.530477,\n  'SAR': 4.239833,\n  'SBD': 9.134361,\n  'SCR': 16.667766,\n  'SDG': 494.136374,\n  'SEK': 10.293935,\n  'SGD': 1.529429,\n  'SHP': 1.555715,\n  'SLL': 12706.415353,\n  'SOS': 659.603953,\n  'SRD': 23.848572,\n  'STD': 23377.523639,\n  'SVC': 9.887183,\n  'SYP': 2837.757915,\n  'SZL': 17.89023,\n  'THB': 37.520776,\n  'TJS': 12.766973,\n  'TMT': 3.953107,\n  'TND': 3.25852,\n  'TOP': 2.567932,\n  'TRY': 14.758303,\n  'TTD': 7.682461,\n  'TWD': 31.217684,\n  'TZS': 2604.532654,\n  'UAH': 30.825782,\n  'UGX': 4005.418383,\n  'USD': 1.129459,\n  'UYU': 50.523551,\n  'UZS': 12240.502059,\n  'VEF': 241512497066.04053,\n  'VND': 25813.788435,\n  'VUV': 127.914243,\n  'WST': 2.936787,\n  'XAF': 652.668478,\n  'XAG': 0.049317,\n  'XAU': 0.000627,\n  'XCD': 3.052419,\n  'XDR': 0.807332,\n  'XOF': 653.389482,\n  'XPF': 120.004949,\n  'YER': 282.647086,\n  'ZAR': 17.949818,\n  'ZMK': 10166.472245,\n  'ZMW': 18.832809,\n  'ZWL': 363.685379}}"
                    },
                    "execution_count": 5,
                    "metadata": {},
                    "output_type": "execute_result"
                }
            ],
            "source": "# Turn the data into a dataframe\nresponse = urlopen(url)\nelevations = response.read()\ndata = json.loads(elevations)\ndata"
        },
        {
            "cell_type": "markdown",
            "metadata": {},
            "source": "## Set paths"
        },
        {
            "cell_type": "code",
            "execution_count": 6,
            "metadata": {},
            "outputs": [],
            "source": "tmpfile    = \"temp.tmp\"               # file used to store all extracted data\nlogfile    = \"logfile.txt\"            # all event logs will be stored in this file\ntargetfile = \"transformed_data.csv\"   # file where transformed data is stored"
        },
        {
            "cell_type": "markdown",
            "metadata": {},
            "source": "## Extract from csv file"
        },
        {
            "cell_type": "code",
            "execution_count": 7,
            "metadata": {},
            "outputs": [],
            "source": "def extract_from_csv(file_to_process):\n    data = pd.read_csv(file_to_process)\n    return data"
        },
        {
            "cell_type": "markdown",
            "metadata": {},
            "source": "### JSON Extract Function"
        },
        {
            "cell_type": "code",
            "execution_count": 8,
            "metadata": {},
            "outputs": [],
            "source": "def extract_from_json(file_to_process):\n    data = pd.read_json(file_to_process,lines=True)\n    return data"
        },
        {
            "cell_type": "markdown",
            "metadata": {},
            "source": "## Extract Data"
        },
        {
            "cell_type": "code",
            "execution_count": 9,
            "metadata": {},
            "outputs": [],
            "source": "def extract():\n    extracted_data = pd.DataFrame(columns=[]) # create an empty data frame to hold extracted data\n    \n    #process all csv files\n    for csvfile in glob.glob(\"*.csv\"):\n        extracted_data = extracted_data.append(extract_from_csv(csvfile), ignore_index=True)\n        \n    #process all json files\n    for jsonfile in glob.glob(\"*.json\"):\n        extracted_data = extracted_data.append(extract_from_json(jsonfile), ignore_index=True)\n    "
        },
        {
            "cell_type": "markdown",
            "metadata": {},
            "source": "## Transform"
        },
        {
            "cell_type": "code",
            "execution_count": 12,
            "metadata": {},
            "outputs": [],
            "source": "def transform(df_drop):\n    df_drop = pd.DataFrame(data)\n    df_drop = df_drop.drop(columns = ['success','timestamp','base','date'])\n    df_drop.index.name = 'Currency'\n    df_drop.rename(columns ={'rates':'Rates'}, inplace = True)\n    return df_drop\n\n    \n\n\n\n\n\n       \n        "
        },
        {
            "cell_type": "markdown",
            "metadata": {},
            "source": "## Loading"
        },
        {
            "cell_type": "code",
            "execution_count": 13,
            "metadata": {},
            "outputs": [],
            "source": "def load(targetfile,data_to_load):\n    data_to_load.to_csv(targetfile)  "
        },
        {
            "cell_type": "markdown",
            "metadata": {},
            "source": "## Logging\n"
        },
        {
            "cell_type": "code",
            "execution_count": 14,
            "metadata": {},
            "outputs": [],
            "source": "def log(message):\n    timestamp_format = '%Y-%h-%d-%H:%M:%S' # Year-Monthname-Day-Hour-Minute-Second\n    now = datetime.now() # get current timestamp\n    timestamp = now.strftime(timestamp_format)\n    with open(\"logfile.txt\",\"a\") as f:\n        f.write(timestamp + ',' + message + '\\n')"
        },
        {
            "cell_type": "markdown",
            "metadata": {},
            "source": " ## Running ETL Process"
        },
        {
            "cell_type": "code",
            "execution_count": 15,
            "metadata": {},
            "outputs": [
                {
                    "ename": "NameError",
                    "evalue": "name 'datetime' is not defined",
                    "output_type": "error",
                    "traceback": [
                        "\u001b[0;31m---------------------------------------------------------------------------\u001b[0m",
                        "\u001b[0;31mNameError\u001b[0m                                 Traceback (most recent call last)",
                        "\u001b[0;32m/tmp/wsuser/ipykernel_154/3985288030.py\u001b[0m in \u001b[0;36m<module>\u001b[0;34m\u001b[0m\n\u001b[0;32m----> 1\u001b[0;31m \u001b[0mlog\u001b[0m\u001b[0;34m(\u001b[0m\u001b[0;34m\"ETL Job Started\"\u001b[0m\u001b[0;34m)\u001b[0m\u001b[0;34m\u001b[0m\u001b[0;34m\u001b[0m\u001b[0m\n\u001b[0m",
                        "\u001b[0;32m/tmp/wsuser/ipykernel_154/3682102056.py\u001b[0m in \u001b[0;36mlog\u001b[0;34m(message)\u001b[0m\n\u001b[1;32m      1\u001b[0m \u001b[0;32mdef\u001b[0m \u001b[0mlog\u001b[0m\u001b[0;34m(\u001b[0m\u001b[0mmessage\u001b[0m\u001b[0;34m)\u001b[0m\u001b[0;34m:\u001b[0m\u001b[0;34m\u001b[0m\u001b[0;34m\u001b[0m\u001b[0m\n\u001b[1;32m      2\u001b[0m     \u001b[0mtimestamp_format\u001b[0m \u001b[0;34m=\u001b[0m \u001b[0;34m'%Y-%h-%d-%H:%M:%S'\u001b[0m \u001b[0;31m# Year-Monthname-Day-Hour-Minute-Second\u001b[0m\u001b[0;34m\u001b[0m\u001b[0;34m\u001b[0m\u001b[0m\n\u001b[0;32m----> 3\u001b[0;31m     \u001b[0mnow\u001b[0m \u001b[0;34m=\u001b[0m \u001b[0mdatetime\u001b[0m\u001b[0;34m.\u001b[0m\u001b[0mnow\u001b[0m\u001b[0;34m(\u001b[0m\u001b[0;34m)\u001b[0m \u001b[0;31m# get current timestamp\u001b[0m\u001b[0;34m\u001b[0m\u001b[0;34m\u001b[0m\u001b[0m\n\u001b[0m\u001b[1;32m      4\u001b[0m     \u001b[0mtimestamp\u001b[0m \u001b[0;34m=\u001b[0m \u001b[0mnow\u001b[0m\u001b[0;34m.\u001b[0m\u001b[0mstrftime\u001b[0m\u001b[0;34m(\u001b[0m\u001b[0mtimestamp_format\u001b[0m\u001b[0;34m)\u001b[0m\u001b[0;34m\u001b[0m\u001b[0;34m\u001b[0m\u001b[0m\n\u001b[1;32m      5\u001b[0m     \u001b[0;32mwith\u001b[0m \u001b[0mopen\u001b[0m\u001b[0;34m(\u001b[0m\u001b[0;34m\"logfile.txt\"\u001b[0m\u001b[0;34m,\u001b[0m\u001b[0;34m\"a\"\u001b[0m\u001b[0;34m)\u001b[0m \u001b[0;32mas\u001b[0m \u001b[0mf\u001b[0m\u001b[0;34m:\u001b[0m\u001b[0;34m\u001b[0m\u001b[0;34m\u001b[0m\u001b[0m\n",
                        "\u001b[0;31mNameError\u001b[0m: name 'datetime' is not defined"
                    ]
                }
            ],
            "source": "log(\"ETL Job Started\")"
        },
        {
            "cell_type": "code",
            "execution_count": null,
            "metadata": {},
            "outputs": [],
            "source": "log(\"Extract phase Started\")\nextracted_data = extract()\nlog(\"Extract phase Ended\")\nextracted_data"
        },
        {
            "cell_type": "markdown",
            "metadata": {},
            "source": "### Load the Data\n\nUsing the dataframe save it as a CSV names `exchange_rates_1.csv`.\n"
        },
        {
            "cell_type": "code",
            "execution_count": 29,
            "metadata": {},
            "outputs": [],
            "source": "# Save the Dataframe\n# Save the Dataframe\n\n#df_drop.to_csv('exchange_rates_1.csv')\ndf_drop = pd.Series(['Currency','Rates'])\n# df = df_drop.str.extractall(pat = ('(?P<Currency>[A-Z])(?P<Rates>\\d)'))\n\n\n"
        },
        {
            "cell_type": "code",
            "execution_count": null,
            "metadata": {},
            "outputs": [],
            "source": ""
        },
        {
            "cell_type": "markdown",
            "metadata": {},
            "source": "Your CSV should be in this format with more currencies\n\n|     | Rates      |\n| --- | ---------- |\n| AED | 4.398618   |\n| AFN | 92.917693  |\n| ALL | 123.099093 |\n| AMD | 621.935674 |\n| ANG | 2.149648   |\n"
        },
        {
            "cell_type": "markdown",
            "metadata": {},
            "source": "## Authors\n"
        },
        {
            "cell_type": "markdown",
            "metadata": {},
            "source": "Ramesh Sannareddy, Joseph Santarcangelo and Azim Hirjani\n"
        },
        {
            "cell_type": "markdown",
            "metadata": {},
            "source": "### Other Contributors\n"
        },
        {
            "cell_type": "markdown",
            "metadata": {},
            "source": "Rav Ahuja\n"
        },
        {
            "cell_type": "markdown",
            "metadata": {},
            "source": "## Change Log\n"
        },
        {
            "cell_type": "markdown",
            "metadata": {},
            "source": "| Date (YYYY-MM-DD) | Version | Changed By        | Change Description                 |\n| ----------------- | ------- | ----------------- | ---------------------------------- |\n| 2021-04-15        | 0.2     | Malika            | Updated the lab from USD to EUR    |\n| 2020-11-25        | 0.1     | Ramesh Sannareddy | Created initial version of the lab |\n"
        },
        {
            "cell_type": "markdown",
            "metadata": {},
            "source": "Copyright \u00a9 2020 IBM Corporation. This notebook and its source code are released under the terms of the [MIT License](https://cognitiveclass.ai/mit-license?utm_medium=Exinfluencer&utm_source=Exinfluencer&utm_content=000026UJ&utm_term=10006555&utm_id=NA-SkillsNetwork-Channel-SkillsNetworkCoursesIBMDeveloperSkillsNetworkPY0221ENSkillsNetwork23455645-2021-01-01&cm_mmc=Email_Newsletter-\\_-Developer_Ed%2BTech-\\_-WW_WW-\\_-SkillsNetwork-Courses-IBM-DA0321EN-SkillsNetwork-21426264&cm_mmca1=000026UJ&cm_mmca2=10006555&cm_mmca3=M12345678&cvosrc=email.Newsletter.M12345678&cvo_campaign=000026UJ).\n"
        }
    ],
    "metadata": {
        "kernelspec": {
            "display_name": "Python 3.8",
            "language": "python",
            "name": "python3"
        },
        "language_info": {
            "codemirror_mode": {
                "name": "ipython",
                "version": 3
            },
            "file_extension": ".py",
            "mimetype": "text/x-python",
            "name": "python",
            "nbconvert_exporter": "python",
            "pygments_lexer": "ipython3",
            "version": "3.8.12"
        }
    },
    "nbformat": 4,
    "nbformat_minor": 4
}