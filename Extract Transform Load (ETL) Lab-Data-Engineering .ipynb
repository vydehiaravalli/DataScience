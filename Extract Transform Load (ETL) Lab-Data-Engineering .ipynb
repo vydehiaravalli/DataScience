{
    "cells": [
        {
            "cell_type": "markdown",
            "metadata": {},
            "source": "<center>\n    <img src=\"https://gitlab.com/ibm/skills-network/courses/placeholder101/-/raw/master/labs/module%201/images/IDSNlogo.png\" width=\"300\" alt=\"cognitiveclass.ai logo\"  />\n</center>\n\n# **Extract Transform Load (ETL) Lab**\n\n## Objectives\n\nAfter completing this lab you will be able to:\n\n*   Read CSV and JSON file types.\n*   Extract data from the above file types.\n*   Transform data.\n*   Save the transformed data in a ready-to-load format which data engineers can use to load into an RDBMS.\n\n\nImport the required modules and functions"
        },
        {
            "cell_type": "code",
            "execution_count": 1,
            "metadata": {},
            "outputs": [],
            "source": "import glob                         # this module helps in selecting files \nimport pandas as pd                 # this module helps in processing CSV files\nimport xml.etree.ElementTree as ET  # this module helps in processing XML files.\nfrom datetime import datetime"
        },
        {
            "cell_type": "markdown",
            "metadata": {},
            "source": "## Download Files"
        },
        {
            "cell_type": "code",
            "execution_count": 2,
            "metadata": {},
            "outputs": [
                {
                    "name": "stdout",
                    "output_type": "stream",
                    "text": "--2022-01-03 23:07:52--  https://cf-courses-data.s3.us.cloud-object-storage.appdomain.cloud/IBMDeveloperSkillsNetwork-PY0221EN-SkillsNetwork/labs/module%206/Lab%20-%20Extract%20Transform%20Load/data/source.zip\nResolving cf-courses-data.s3.us.cloud-object-storage.appdomain.cloud (cf-courses-data.s3.us.cloud-object-storage.appdomain.cloud)... 198.23.119.245\nConnecting to cf-courses-data.s3.us.cloud-object-storage.appdomain.cloud (cf-courses-data.s3.us.cloud-object-storage.appdomain.cloud)|198.23.119.245|:443... connected.\nHTTP request sent, awaiting response... 200 OK\nLength: 2707 (2.6K) [application/zip]\nSaving to: \u2018source.zip\u2019\n\nsource.zip          100%[===================>]   2.64K  --.-KB/s    in 0s      \n\n2022-01-03 23:07:52 (54.4 MB/s) - \u2018source.zip\u2019 saved [2707/2707]\n\n"
                }
            ],
            "source": "!wget https://cf-courses-data.s3.us.cloud-object-storage.appdomain.cloud/IBMDeveloperSkillsNetwork-PY0221EN-SkillsNetwork/labs/module%206/Lab%20-%20Extract%20Transform%20Load/data/source.zip"
        },
        {
            "cell_type": "markdown",
            "metadata": {},
            "source": "## Unzip Files"
        },
        {
            "cell_type": "code",
            "execution_count": 3,
            "metadata": {},
            "outputs": [
                {
                    "name": "stdout",
                    "output_type": "stream",
                    "text": "Archive:  source.zip\r\n  inflating: source3.json            \r\n  inflating: source1.csv             \r\n  inflating: source2.csv             \r\n  inflating: source3.csv             \r\n  inflating: source1.json            \r\n  inflating: source2.json            \r\n  inflating: source1.xml             \r\n  inflating: source2.xml             \r\n  inflating: source3.xml             \r\n"
                }
            ],
            "source": "!unzip source.zip"
        },
        {
            "cell_type": "markdown",
            "metadata": {},
            "source": "## Set Paths"
        },
        {
            "cell_type": "code",
            "execution_count": 4,
            "metadata": {},
            "outputs": [],
            "source": "tmpfile    = \"temp.tmp\"               # file used to store all extracted data\nlogfile    = \"logfile.txt\"            # all event logs will be stored in this file\ntargetfile = \"transformed_data.csv\"   # file where transformed data is stored"
        },
        {
            "cell_type": "markdown",
            "metadata": {},
            "source": "## Extract\n\n### CSV Extract Function"
        },
        {
            "cell_type": "code",
            "execution_count": 5,
            "metadata": {},
            "outputs": [],
            "source": "def extract_from_csv(file_to_process):\n    dataframe = pd.read_csv(file_to_process)\n    return dataframe"
        },
        {
            "cell_type": "markdown",
            "metadata": {},
            "source": "### JSON Extract Function"
        },
        {
            "cell_type": "code",
            "execution_count": 6,
            "metadata": {},
            "outputs": [],
            "source": "def extract_from_json(file_to_process):\n    dataframe = pd.read_json(file_to_process,lines=True)\n    return dataframe"
        },
        {
            "cell_type": "markdown",
            "metadata": {},
            "source": "### XML Extract Function\n"
        },
        {
            "cell_type": "code",
            "execution_count": 7,
            "metadata": {},
            "outputs": [],
            "source": "def extract_from_xml(file_to_process):\n    dataframe = pd.DataFrame(columns=[\"name\", \"height\", \"weight\"])\n    tree = ET.parse(file_to_process)\n    root = tree.getroot()\n    for person in root:\n        name = person.find(\"name\").text\n        height = float(person.find(\"height\").text)\n        weight = float(person.find(\"weight\").text)\n        dataframe = dataframe.append({\"name\":name, \"height\":height, \"weight\":weight}, ignore_index=True)\n    return dataframe"
        },
        {
            "cell_type": "markdown",
            "metadata": {},
            "source": "### Extract Function\n"
        },
        {
            "cell_type": "code",
            "execution_count": 8,
            "metadata": {},
            "outputs": [],
            "source": "def extract():\n    extracted_data = pd.DataFrame(columns=['name','height','weight']) # create an empty data frame to hold extracted data\n    \n    #process all csv files\n    for csvfile in glob.glob(\"*.csv\"):\n        extracted_data = extracted_data.append(extract_from_csv(csvfile), ignore_index=True)\n        \n    #process all json files\n    for jsonfile in glob.glob(\"*.json\"):\n        extracted_data = extracted_data.append(extract_from_json(jsonfile), ignore_index=True)\n    \n    #process all xml files\n    for xmlfile in glob.glob(\"*.xml\"):\n        extracted_data = extracted_data.append(extract_from_xml(xmlfile), ignore_index=True)\n        \n    return extracted_data"
        },
        {
            "cell_type": "markdown",
            "metadata": {},
            "source": "## Transform\nThe transform function does the following tasks.\n\n1.  Convert height which is in inches to millimeter\n2.  Convert weight which is in pounds to kilograms\n"
        },
        {
            "cell_type": "code",
            "execution_count": 14,
            "metadata": {},
            "outputs": [],
            "source": "def transform(data):\n        #Convert height which is in inches to millimeter\n        #Convert the datatype of the column into float\n        data.height = data.height.astype(float)\n        #Convert inches to meters and round off to two decimals(one inch is 0.0254 meters)\n        data['height'] = round(data.height * 0.0254,2)\n        \n        #Convert weight which is in pounds to kilograms\n        #Convert the datatype of the column into float\n        data.weight = data.weight.astype(float)\n        #Convert pounds to kilograms and round off to two decimals(one pound is 0.45359237 kilograms)\n        data['weight'] = round(data.weight * 0.45359237,2)\n        return data"
        },
        {
            "cell_type": "markdown",
            "metadata": {},
            "source": "## Loading"
        },
        {
            "cell_type": "code",
            "execution_count": 15,
            "metadata": {},
            "outputs": [],
            "source": "def load(targetfile,data_to_load):\n    data_to_load.to_csv(targetfile)  "
        },
        {
            "cell_type": "markdown",
            "metadata": {},
            "source": "## Logging"
        },
        {
            "cell_type": "code",
            "execution_count": 16,
            "metadata": {},
            "outputs": [],
            "source": "def log(message):\n    timestamp_format = '%Y-%h-%d-%H:%M:%S' # Year-Monthname-Day-Hour-Minute-Second\n    now = datetime.now() # get current timestamp\n    timestamp = now.strftime(timestamp_format)\n    with open(\"logfile.txt\",\"a\") as f:\n        f.write(timestamp + ',' + message + '\\n')"
        },
        {
            "cell_type": "markdown",
            "metadata": {},
            "source": "## Running ETL Process\n"
        },
        {
            "cell_type": "code",
            "execution_count": 17,
            "metadata": {},
            "outputs": [],
            "source": "log(\"ETL Job Started\")"
        },
        {
            "cell_type": "code",
            "execution_count": 13,
            "metadata": {},
            "outputs": [
                {
                    "data": {
                        "text/html": "<div>\n<style scoped>\n    .dataframe tbody tr th:only-of-type {\n        vertical-align: middle;\n    }\n\n    .dataframe tbody tr th {\n        vertical-align: top;\n    }\n\n    .dataframe thead th {\n        text-align: right;\n    }\n</style>\n<table border=\"1\" class=\"dataframe\">\n  <thead>\n    <tr style=\"text-align: right;\">\n      <th></th>\n      <th>name</th>\n      <th>height</th>\n      <th>weight</th>\n      <th>Unnamed: 0</th>\n      <th>Rates</th>\n      <th>Name</th>\n      <th>Market Cap (US$ Billion)</th>\n    </tr>\n  </thead>\n  <tbody>\n    <tr>\n      <th>0</th>\n      <td>alex</td>\n      <td>65.78</td>\n      <td>112.99</td>\n      <td>NaN</td>\n      <td>NaN</td>\n      <td>NaN</td>\n      <td>NaN</td>\n    </tr>\n    <tr>\n      <th>1</th>\n      <td>ajay</td>\n      <td>71.52</td>\n      <td>136.49</td>\n      <td>NaN</td>\n      <td>NaN</td>\n      <td>NaN</td>\n      <td>NaN</td>\n    </tr>\n    <tr>\n      <th>2</th>\n      <td>alice</td>\n      <td>69.40</td>\n      <td>153.03</td>\n      <td>NaN</td>\n      <td>NaN</td>\n      <td>NaN</td>\n      <td>NaN</td>\n    </tr>\n    <tr>\n      <th>3</th>\n      <td>ravi</td>\n      <td>68.22</td>\n      <td>142.34</td>\n      <td>NaN</td>\n      <td>NaN</td>\n      <td>NaN</td>\n      <td>NaN</td>\n    </tr>\n    <tr>\n      <th>4</th>\n      <td>joe</td>\n      <td>67.79</td>\n      <td>144.30</td>\n      <td>NaN</td>\n      <td>NaN</td>\n      <td>NaN</td>\n      <td>NaN</td>\n    </tr>\n    <tr>\n      <th>...</th>\n      <td>...</td>\n      <td>...</td>\n      <td>...</td>\n      <td>...</td>\n      <td>...</td>\n      <td>...</td>\n      <td>...</td>\n    </tr>\n    <tr>\n      <th>69</th>\n      <td>ivan</td>\n      <td>67.62</td>\n      <td>114.14</td>\n      <td>NaN</td>\n      <td>NaN</td>\n      <td>NaN</td>\n      <td>NaN</td>\n    </tr>\n    <tr>\n      <th>70</th>\n      <td>simon</td>\n      <td>67.90</td>\n      <td>112.37</td>\n      <td>NaN</td>\n      <td>NaN</td>\n      <td>NaN</td>\n      <td>NaN</td>\n    </tr>\n    <tr>\n      <th>71</th>\n      <td>jacob</td>\n      <td>66.78</td>\n      <td>120.67</td>\n      <td>NaN</td>\n      <td>NaN</td>\n      <td>NaN</td>\n      <td>NaN</td>\n    </tr>\n    <tr>\n      <th>72</th>\n      <td>cindy</td>\n      <td>66.49</td>\n      <td>127.45</td>\n      <td>NaN</td>\n      <td>NaN</td>\n      <td>NaN</td>\n      <td>NaN</td>\n    </tr>\n    <tr>\n      <th>73</th>\n      <td>ivan</td>\n      <td>67.62</td>\n      <td>114.14</td>\n      <td>NaN</td>\n      <td>NaN</td>\n      <td>NaN</td>\n      <td>NaN</td>\n    </tr>\n  </tbody>\n</table>\n<p>74 rows \u00d7 7 columns</p>\n</div>",
                        "text/plain": "     name  height  weight Unnamed: 0  Rates Name Market Cap (US$ Billion)\n0    alex   65.78  112.99        NaN    NaN  NaN                      NaN\n1    ajay   71.52  136.49        NaN    NaN  NaN                      NaN\n2   alice   69.40  153.03        NaN    NaN  NaN                      NaN\n3    ravi   68.22  142.34        NaN    NaN  NaN                      NaN\n4     joe   67.79  144.30        NaN    NaN  NaN                      NaN\n..    ...     ...     ...        ...    ...  ...                      ...\n69   ivan   67.62  114.14        NaN    NaN  NaN                      NaN\n70  simon   67.90  112.37        NaN    NaN  NaN                      NaN\n71  jacob   66.78  120.67        NaN    NaN  NaN                      NaN\n72  cindy   66.49  127.45        NaN    NaN  NaN                      NaN\n73   ivan   67.62  114.14        NaN    NaN  NaN                      NaN\n\n[74 rows x 7 columns]"
                    },
                    "execution_count": 13,
                    "metadata": {},
                    "output_type": "execute_result"
                }
            ],
            "source": "log(\"Extract phase Started\")\nextracted_data = extract()\nlog(\"Extract phase Ended\")\nextracted_data"
        },
        {
            "cell_type": "code",
            "execution_count": 18,
            "metadata": {},
            "outputs": [
                {
                    "data": {
                        "text/html": "<div>\n<style scoped>\n    .dataframe tbody tr th:only-of-type {\n        vertical-align: middle;\n    }\n\n    .dataframe tbody tr th {\n        vertical-align: top;\n    }\n\n    .dataframe thead th {\n        text-align: right;\n    }\n</style>\n<table border=\"1\" class=\"dataframe\">\n  <thead>\n    <tr style=\"text-align: right;\">\n      <th></th>\n      <th>name</th>\n      <th>height</th>\n      <th>weight</th>\n      <th>Unnamed: 0</th>\n      <th>Rates</th>\n      <th>Name</th>\n      <th>Market Cap (US$ Billion)</th>\n    </tr>\n  </thead>\n  <tbody>\n    <tr>\n      <th>0</th>\n      <td>alex</td>\n      <td>1.67</td>\n      <td>51.25</td>\n      <td>NaN</td>\n      <td>NaN</td>\n      <td>NaN</td>\n      <td>NaN</td>\n    </tr>\n    <tr>\n      <th>1</th>\n      <td>ajay</td>\n      <td>1.82</td>\n      <td>61.91</td>\n      <td>NaN</td>\n      <td>NaN</td>\n      <td>NaN</td>\n      <td>NaN</td>\n    </tr>\n    <tr>\n      <th>2</th>\n      <td>alice</td>\n      <td>1.76</td>\n      <td>69.41</td>\n      <td>NaN</td>\n      <td>NaN</td>\n      <td>NaN</td>\n      <td>NaN</td>\n    </tr>\n    <tr>\n      <th>3</th>\n      <td>ravi</td>\n      <td>1.73</td>\n      <td>64.56</td>\n      <td>NaN</td>\n      <td>NaN</td>\n      <td>NaN</td>\n      <td>NaN</td>\n    </tr>\n    <tr>\n      <th>4</th>\n      <td>joe</td>\n      <td>1.72</td>\n      <td>65.45</td>\n      <td>NaN</td>\n      <td>NaN</td>\n      <td>NaN</td>\n      <td>NaN</td>\n    </tr>\n    <tr>\n      <th>...</th>\n      <td>...</td>\n      <td>...</td>\n      <td>...</td>\n      <td>...</td>\n      <td>...</td>\n      <td>...</td>\n      <td>...</td>\n    </tr>\n    <tr>\n      <th>69</th>\n      <td>ivan</td>\n      <td>1.72</td>\n      <td>51.77</td>\n      <td>NaN</td>\n      <td>NaN</td>\n      <td>NaN</td>\n      <td>NaN</td>\n    </tr>\n    <tr>\n      <th>70</th>\n      <td>simon</td>\n      <td>1.72</td>\n      <td>50.97</td>\n      <td>NaN</td>\n      <td>NaN</td>\n      <td>NaN</td>\n      <td>NaN</td>\n    </tr>\n    <tr>\n      <th>71</th>\n      <td>jacob</td>\n      <td>1.70</td>\n      <td>54.73</td>\n      <td>NaN</td>\n      <td>NaN</td>\n      <td>NaN</td>\n      <td>NaN</td>\n    </tr>\n    <tr>\n      <th>72</th>\n      <td>cindy</td>\n      <td>1.69</td>\n      <td>57.81</td>\n      <td>NaN</td>\n      <td>NaN</td>\n      <td>NaN</td>\n      <td>NaN</td>\n    </tr>\n    <tr>\n      <th>73</th>\n      <td>ivan</td>\n      <td>1.72</td>\n      <td>51.77</td>\n      <td>NaN</td>\n      <td>NaN</td>\n      <td>NaN</td>\n      <td>NaN</td>\n    </tr>\n  </tbody>\n</table>\n<p>74 rows \u00d7 7 columns</p>\n</div>",
                        "text/plain": "     name  height  weight Unnamed: 0  Rates Name Market Cap (US$ Billion)\n0    alex    1.67   51.25        NaN    NaN  NaN                      NaN\n1    ajay    1.82   61.91        NaN    NaN  NaN                      NaN\n2   alice    1.76   69.41        NaN    NaN  NaN                      NaN\n3    ravi    1.73   64.56        NaN    NaN  NaN                      NaN\n4     joe    1.72   65.45        NaN    NaN  NaN                      NaN\n..    ...     ...     ...        ...    ...  ...                      ...\n69   ivan    1.72   51.77        NaN    NaN  NaN                      NaN\n70  simon    1.72   50.97        NaN    NaN  NaN                      NaN\n71  jacob    1.70   54.73        NaN    NaN  NaN                      NaN\n72  cindy    1.69   57.81        NaN    NaN  NaN                      NaN\n73   ivan    1.72   51.77        NaN    NaN  NaN                      NaN\n\n[74 rows x 7 columns]"
                    },
                    "execution_count": 18,
                    "metadata": {},
                    "output_type": "execute_result"
                }
            ],
            "source": "log(\"Transform phase Started\")\ntransformed_data = transform(extracted_data)\nlog(\"Transform phase Ended\")\ntransformed_data "
        },
        {
            "cell_type": "code",
            "execution_count": 19,
            "metadata": {},
            "outputs": [],
            "source": "log(\"Load phase Started\")\nload(targetfile,transformed_data)\nlog(\"Load phase Ended\")"
        },
        {
            "cell_type": "code",
            "execution_count": 20,
            "metadata": {},
            "outputs": [],
            "source": "log(\"ETL Job Ended\")"
        },
        {
            "cell_type": "markdown",
            "metadata": {},
            "source": "# Exercise\n\nUsing the example above complete the exercise below.\n## Download Files"
        },
        {
            "cell_type": "code",
            "execution_count": null,
            "metadata": {},
            "outputs": [],
            "source": "!wget https://cf-courses-data.s3.us.cloud-object-storage.appdomain.cloud/IBMDeveloperSkillsNetwork-PY0221EN-SkillsNetwork/labs/module%206/Lab%20-%20Extract%20Transform%20Load/data/datasource.zip"
        },
        {
            "cell_type": "markdown",
            "metadata": {},
            "source": "--2021-01-20 15:58:13--  https://cf-courses-data.s3.us.cloud-object-storage.appdomain.cloud/IBMDeveloperSkillsNetwork-PY0221EN-SkillsNetwork/labs/module%206/Lab%20-%20Extract%20Transform%20Load/data/datasource.zip\nResolving cf-courses-data.s3.us.cloud-object-storage.appdomain.cloud (cf-courses-data.s3.us.cloud-object-storage.appdomain.cloud)... 169.63.118.104\nConnecting to cf-courses-data.s3.us.cloud-object-storage.appdomain.cloud (cf-courses-data.s3.us.cloud-object-storage.appdomain.cloud)|169.63.118.104|:443... connected.\nHTTP request sent, awaiting response... 200 OK\nLength: 4249 (4.1K) [application/zip]\nSaving to: \u2018datasource.zip\u2019\n\ndatasource.zip      100%[===================>]   4.15K  --.-KB/s    in 0.001s  \n\n2021-01-20 15:58:13 (8.09 MB/s) - \u2018datasource.zip\u2019 saved [4249/4249]\n"
        },
        {
            "cell_type": "markdown",
            "metadata": {},
            "source": "## Unzip Files"
        },
        {
            "cell_type": "code",
            "execution_count": null,
            "metadata": {},
            "outputs": [],
            "source": "!unzip datasource.zip -d dealership_data"
        },
        {
            "cell_type": "code",
            "execution_count": null,
            "metadata": {},
            "outputs": [],
            "source": "Archive:  datasource.zip\n  inflating: dealership_data/used_car_prices1.csv  \n  inflating: dealership_data/used_car_prices2.csv  \n  inflating: dealership_data/used_car_prices3.csv  \n  inflating: dealership_data/used_car_prices1.json  \n  inflating: dealership_data/used_car_prices2.json  \n  inflating: dealership_data/used_car_prices3.json  \n  inflating: dealership_data/used_car_prices1.xml  \n  inflating: dealership_data/used_car_prices2.xml  \n  inflating: dealership_data/used_car_prices3.xml  \n"
        },
        {
            "cell_type": "markdown",
            "metadata": {},
            "source": "## About the Data\n\n\nThe file `dealership_data` contains CSV, JSON, and XML files for used car data which contain features named `car_model`, `year_of_manufacture`, `price`, and `fuel`.\n\n\n\n## Set Paths"
        },
        {
            "cell_type": "code",
            "execution_count": null,
            "metadata": {},
            "outputs": [],
            "source": "tmpfile    = \"dealership_temp.tmp\"               # file used to store all extracted data\nlogfile    = \"dealership_logfile.txt\"            # all event logs will be stored in this file\ntargetfile = \"dealership_transformed_data.csv\"   # file where transformed data is stored"
        },
        {
            "cell_type": "markdown",
            "metadata": {},
            "source": "## Extract\n### Question 1: CSV Extract Function"
        },
        {
            "cell_type": "code",
            "execution_count": null,
            "metadata": {},
            "outputs": [],
            "source": "def extract_from_csv(file_to_process):\n    dataframe = pd.read_csv(file_to_process)\n    return dataframe"
        },
        {
            "cell_type": "markdown",
            "metadata": {},
            "source": "### Question 2: JSON Extract Function"
        },
        {
            "cell_type": "code",
            "execution_count": null,
            "metadata": {},
            "outputs": [],
            "source": "def extract_from_json(file_to_process):\n    dataframe = pd.read_json(file_to_process,lines=True)\n    return dataframe"
        },
        {
            "cell_type": "markdown",
            "metadata": {},
            "source": "### Question 3: XML Extract Function\n"
        },
        {
            "cell_type": "code",
            "execution_count": null,
            "metadata": {},
            "outputs": [],
            "source": "def extract_from_xml(file_to_process):\n    dataframe = pd.DataFrame(columns=['car_model','year_of_manufacture','price', 'fuel'])\n    tree = ET.parse(file_to_process)\n    root = tree.getroot()\n    for person in root:\n        car_model = person.find(\"car_model\").text\n        year_of_manufacture = int(person.find(\"year_of_manufacture\").text)\n        price = float(person.find(\"price\").text)\n        fuel = person.find(\"fuel\").text\n        dataframe = dataframe.append({\"car_model\":car_model, \"year_of_manufacture\":year_of_manufacture, \"price\":price, \"fuel\":fuel}, ignore_index=True)\n    return dataframe"
        },
        {
            "cell_type": "markdown",
            "metadata": {},
            "source": "### Question 4: Extract Function\n\nCall the specific extract functions you created above by replacing the `ADD_FUNCTION_CALL` with the proper function call.\n"
        },
        {
            "cell_type": "code",
            "execution_count": null,
            "metadata": {},
            "outputs": [],
            "source": "def extract():\n    extracted_data = pd.DataFrame(columns=['car_model','year_of_manufacture','price', 'fuel']) # create an empty data frame to hold extracted data\n    \n    #process all csv files\n    for csvfile in glob.glob(\"dealership_data/*.csv\"):\n        extracted_data = extracted_data.append('ADD_FUNCTION_CALL', ignore_index=True)\n        \n    #process all json files\n    for jsonfile in glob.glob(\"dealership_data/*.json\"):\n        extracted_data = extracted_data.append('ADD_FUNCTION_CALL', ignore_index=True)\n    \n    #process all xml files\n    for xmlfile in glob.glob(\"dealership_data/*.xml\"):\n        extracted_data = extracted_data.append('ADD_FUNCTION_CALL', ignore_index=True)\n        \n    return extracted_data"
        },
        {
            "cell_type": "code",
            "execution_count": null,
            "metadata": {},
            "outputs": [],
            "source": ""
        },
        {
            "cell_type": "markdown",
            "metadata": {},
            "source": "## Transform\n\n\n### Question 5: Transform\n\nRound the `price` columns to 2 decimal places\n"
        },
        {
            "cell_type": "code",
            "execution_count": null,
            "metadata": {},
            "outputs": [],
            "source": "def transform(data):\n        data['price'] = round(data.price, 2)\n        return data"
        },
        {
            "cell_type": "markdown",
            "metadata": {},
            "source": "## Loading\n### Question 6: Load"
        },
        {
            "cell_type": "code",
            "execution_count": null,
            "metadata": {},
            "outputs": [],
            "source": "def load(targetfile,data_to_load):\n    data_to_load.to_csv(targetfile)  "
        },
        {
            "cell_type": "markdown",
            "metadata": {},
            "source": "## Logging\n\n### Question 7: Log\n\nMake sure to change the name of the logfile to the one specified in the set paths section. Change the timestamp order to Hour-Minute-Second-Monthname-Day-Year.\n"
        },
        {
            "cell_type": "code",
            "execution_count": null,
            "metadata": {},
            "outputs": [],
            "source": "def log(message):\n    timestamp_format = '%H:%M:%S-%h-%d-%Y' #Hour-Minute-Second-MonthName-Day-Year\n    now = datetime.now() # get current timestamp\n    timestamp = now.strftime(timestamp_format)\n    with open(\"dealership_logfile.txt\",\"a\") as f:\n        f.write(timestamp + ',' + message + '\\n') "
        },
        {
            "cell_type": "markdown",
            "metadata": {},
            "source": "## Running ETL Process\n### Question 8: ETL Process\n\nRun all functions to extract, transform, and load the data. Make sure to log all events using the `log` function. Place your code under each comment.\n"
        },
        {
            "cell_type": "code",
            "execution_count": null,
            "metadata": {},
            "outputs": [],
            "source": "# Log that you have started the ETL process\nlog(\"ETL Job Started\")"
        },
        {
            "cell_type": "code",
            "execution_count": null,
            "metadata": {},
            "outputs": [],
            "source": "# Log that you have started the Extract step\nlog(\"Extract phase Started\")\nextracted_data = extract()\n#log(\"Extract phase Ended\")"
        },
        {
            "cell_type": "code",
            "execution_count": null,
            "metadata": {},
            "outputs": [],
            "source": "# Call the Extract function\ndef extract():\n    extracted_data = pd.DataFrame(columns=['car_model','year_of_manufacture','price', 'fuel']) # create an empty data frame to hold extracted data\n    \n    #process all csv files\n    for csvfile in glob.glob(\"dealership_data/*.csv\"):\n        extracted_data = extracted_data.append(extract_from_csv(csvfile), ignore_index=True)\n        \n    #process all json files\n    for jsonfile in glob.glob(\"dealership_data/*.json\"):\n        extracted_data = extracted_data.append(extract_from_json(jsonfile), ignore_index=True)\n    \n    #process all xml files\n    for xmlfile in glob.glob(\"dealership_data/*.xml\"):\n        extracted_data = extracted_data.append(extract_from_xml(xmlfile), ignore_index=True)\n        \n    return extracted_data\n"
        },
        {
            "cell_type": "code",
            "execution_count": null,
            "metadata": {},
            "outputs": [],
            "source": "# Log that you have completed the Extract step\n#log(\"Extract phase Started\")\nextracted_data = extract()\nlog(\"Extract phase Ended\")"
        },
        {
            "cell_type": "code",
            "execution_count": null,
            "metadata": {},
            "outputs": [],
            "source": "# Log that you have started the Transform step\nlog(\"Transform phase Started\")\ntransformed_data = transform(extracted_data)\n#log(\"Transform phase Ended\")"
        },
        {
            "cell_type": "code",
            "execution_count": null,
            "metadata": {},
            "outputs": [],
            "source": "# Call the Transform function\ndef transform(data):\n        data['price'] = round(data.price, 2)\n        return data"
        },
        {
            "cell_type": "code",
            "execution_count": null,
            "metadata": {},
            "outputs": [],
            "source": "\n# Log that you have completed the Transform step\n#log(\"Transform phase Started\")\ntransformed_data = transform(extracted_data)\nlog(\"Transform phase Ended\")\n"
        },
        {
            "cell_type": "code",
            "execution_count": null,
            "metadata": {},
            "outputs": [],
            "source": "# Log that you have started the Load step\nlog(\"Load phase Started\")\nload(targetfile,transformed_data)\n#log(\"Load phase Ended\")"
        },
        {
            "cell_type": "code",
            "execution_count": null,
            "metadata": {},
            "outputs": [],
            "source": "# Call the Load function\ndef load(targetfile,data_to_load):\n    data_to_load.to_csv(targetfile)  "
        },
        {
            "cell_type": "code",
            "execution_count": null,
            "metadata": {},
            "outputs": [],
            "source": "# Log that you have completed the Load step\n#log(\"Load phase Started\")\nload(targetfile,transformed_data)\nlog(\"Load phase Ended\")"
        },
        {
            "cell_type": "code",
            "execution_count": null,
            "metadata": {},
            "outputs": [],
            "source": "# Log that you have completed the ETL process\nlog(\"ETL Job Ended\")"
        }
    ],
    "metadata": {
        "kernelspec": {
            "display_name": "Python 3.8",
            "language": "python",
            "name": "python3"
        },
        "language_info": {
            "codemirror_mode": {
                "name": "ipython",
                "version": 3
            },
            "file_extension": ".py",
            "mimetype": "text/x-python",
            "name": "python",
            "nbconvert_exporter": "python",
            "pygments_lexer": "ipython3",
            "version": "3.8.12"
        }
    },
    "nbformat": 4,
    "nbformat_minor": 4
}